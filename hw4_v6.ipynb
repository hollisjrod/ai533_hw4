{
 "cells": [
  {
   "cell_type": "markdown",
   "metadata": {},
   "source": [
    "# Distributed Deep Q-Learning \n",
    "\n",
    "The goal of this assignment is to implement and experiment with both single-core and distributed versions of the deep reinforcement learning algorithm Deep Q Networks (DQN). In particular, DQN will be run in the classic RL benchmark Cart-Pole and abblation experiments will be run to observe the impact of the different DQN components. \n",
    "\n",
    "The relevant content about DQN can be found Q-Learning and SARSA are in the following course notes from CS533.\n",
    "\n",
    "https://oregonstate.instructure.com/courses/1719746/files/75047394/download?wrap=1\n",
    "\n",
    "The full pseudo-code for DQN is on slide 45 with prior slides introducing the individual components. \n",
    "\n",
    "\n",
    "## Recap of DQN \n",
    "\n",
    "From the course slides it can be seen that DQN is simply the standard table-based Q-learning algorithm but with three extensions:\n",
    "\n",
    "1) Use of function approximation via a neural network instead of a Q-table. \n",
    "2) Use of experience replay. \n",
    "3) Use of a target network. \n",
    "\n",
    "Extension (1) allows for scaling to problems with enormous state spaces, such as when the states correspond to images or sequences of images. Extensions (2) and (3) are claimed to improve the robustness and effectiveness of DQN compared. \n",
    "\n",
    "(2) adjusts Q-learning so that updates are not just performed on individual experiences as they arrive. But rather, experiences are stored in a memory buffer and updates are performed by sampling random mini-batches of experience tuples from the memory buffer and updating the network based on the mini-batch. This allows for reuse of experience as well as helping to reduce correlation between successive updates, which is claimed to be beneficial. \n",
    "\n",
    "(3) adjusts the way that target values are computed for the Q-learning updates. Let $Q_{\\theta}(s,a)$ be the function approximation network with parameters $\\theta$ for representing the Q-function. Given an experience tuple $(s, a, r, s')$ the origional Q-learning algorithm updates the parameters so that $Q_{\\theta}(s,a)$ moves closer to the target value: \n",
    "\\begin{equation}\n",
    "r + \\beta \\max_a' Q_{\\theta}(s',a') \n",
    "\\end{equation}\n",
    "Rather, DQN stores two function approximation networks. The first is the update network with parameters $\\theta$, which is the network that is continually updated during learning. The second is a target network with parameters $\\theta'$. Given the same experience tuple, DQN will update the parameters $\\theta$ so that $Q_{\\theta}(s,a)$ moves toward a target value based on the target network:\n",
    "\\begin{equation}\n",
    "r + \\beta \\max_a' Q_{\\theta'}(s',a') \n",
    "\\end{equation}\n",
    "Periodically the target network is updated with the most recent parameters $\\theta' \\leftarrow \\theta$. This use of a target network is claimed to stabilize learning.\n",
    "\n",
    "In the assignment you will get to see an example of the impact of both the target network and experience replay.\n",
    "\n",
    "Further reading about DQN and its application to learning to play Atari games can be found in the following paper. \n",
    "\n",
    "Mnih, V., Kavukcuoglu, K., Silver, D., Rusu, A.A., Veness, J., Bellemare, M.G., Graves, A., Riedmiller, M., Fidjeland, A.K., Ostrovski, G. and Petersen, S., 2015. Human-level control through deep reinforcement learning. Nature, 518(7540), p.529.\n",
    "https://oregonstate.instructure.com/courses/1719746/files/75234294/download?wrap=1"
   ]
  },
  {
   "cell_type": "code",
   "execution_count": 1,
   "metadata": {},
   "outputs": [
    {
     "name": "stdout",
     "output_type": "stream",
     "text": [
      "Requirement already satisfied: gym[Box2D] in /home/u92669/.local/lib/python3.7/site-packages (0.21.0)\n",
      "Requirement already satisfied: numpy>=1.18.0 in /glob/development-tools/versions/oneapi/2021.4/inteloneapi/intelpython/python3.7/lib/python3.7/site-packages (from gym[Box2D]) (1.20.3)\n",
      "Requirement already satisfied: importlib-metadata>=4.8.1 in /glob/development-tools/versions/oneapi/2021.4/inteloneapi/intelpython/python3.7/lib/python3.7/site-packages (from gym[Box2D]) (4.8.1)\n",
      "Requirement already satisfied: cloudpickle>=1.2.0 in /home/u92669/.local/lib/python3.7/site-packages (from gym[Box2D]) (2.0.0)\n",
      "Requirement already satisfied: box2d-py==2.3.5 in /home/u92669/.local/lib/python3.7/site-packages (from gym[Box2D]) (2.3.5)\n",
      "Requirement already satisfied: pyglet>=1.4.0 in /home/u92669/.local/lib/python3.7/site-packages (from gym[Box2D]) (1.5.21)\n",
      "Requirement already satisfied: typing-extensions>=3.6.4 in /glob/development-tools/versions/oneapi/2021.4/inteloneapi/intelpython/python3.7/lib/python3.7/site-packages (from importlib-metadata>=4.8.1->gym[Box2D]) (3.10.0.2)\n",
      "Requirement already satisfied: zipp>=0.5 in /glob/development-tools/versions/oneapi/2021.4/inteloneapi/intelpython/python3.7/lib/python3.7/site-packages (from importlib-metadata>=4.8.1->gym[Box2D]) (3.6.0)\n",
      "Requirement already satisfied: torch in /home/u92669/.local/lib/python3.7/site-packages (1.10.0)\n",
      "Requirement already satisfied: typing-extensions in /glob/development-tools/versions/oneapi/2021.4/inteloneapi/intelpython/python3.7/lib/python3.7/site-packages (from torch) (3.10.0.2)\n",
      "Requirement already satisfied: JSAnimation in /home/u92669/.local/lib/python3.7/site-packages (0.1)\n",
      "Requirement already satisfied: matplotlib in /glob/development-tools/versions/oneapi/2021.4/inteloneapi/intelpython/python3.7/lib/python3.7/site-packages (3.1.2)\n",
      "Requirement already satisfied: cycler>=0.10 in /glob/development-tools/versions/oneapi/2021.4/inteloneapi/intelpython/python3.7/lib/python3.7/site-packages (from matplotlib) (0.10.0)\n",
      "Requirement already satisfied: kiwisolver>=1.0.1 in /glob/development-tools/versions/oneapi/2021.4/inteloneapi/intelpython/python3.7/lib/python3.7/site-packages (from matplotlib) (1.3.1)\n",
      "Requirement already satisfied: pyparsing!=2.0.4,!=2.1.2,!=2.1.6,>=2.0.1 in /glob/development-tools/versions/oneapi/2021.4/inteloneapi/intelpython/python3.7/lib/python3.7/site-packages (from matplotlib) (2.4.7)\n",
      "Requirement already satisfied: python-dateutil>=2.1 in /glob/development-tools/versions/oneapi/2021.4/inteloneapi/intelpython/python3.7/lib/python3.7/site-packages (from matplotlib) (2.8.2)\n",
      "Requirement already satisfied: numpy>=1.11 in /glob/development-tools/versions/oneapi/2021.4/inteloneapi/intelpython/python3.7/lib/python3.7/site-packages (from matplotlib) (1.20.3)\n",
      "Requirement already satisfied: six in /glob/development-tools/versions/oneapi/2021.4/inteloneapi/intelpython/python3.7/lib/python3.7/site-packages (from cycler>=0.10->matplotlib) (1.16.0)\n"
     ]
    }
   ],
   "source": [
    "!pip3 install --user gym[Box2D]\n",
    "!pip3 install --user torch\n",
    "!pip3 install --user JSAnimation\n",
    "!pip3 install --user matplotlib"
   ]
  },
  {
   "cell_type": "markdown",
   "metadata": {},
   "source": [
    "Install the packages for enviroment"
   ]
  },
  {
   "cell_type": "code",
   "execution_count": 2,
   "metadata": {},
   "outputs": [],
   "source": [
    "import gym\n",
    "import torch\n",
    "import time\n",
    "import os\n",
    "import ray\n",
    "import numpy as np\n",
    "\n",
    "from tqdm import tqdm\n",
    "from random import uniform, randint\n",
    "\n",
    "import io\n",
    "import base64\n",
    "from IPython.display import HTML\n",
    "\n",
    "from dqn_model import DQNModel\n",
    "from dqn_model import _DQNModel\n",
    "from memory import ReplayBuffer\n",
    "\n",
    "import matplotlib.pyplot as plt\n",
    "%matplotlib inline\n",
    "\n",
    "FloatTensor = torch.FloatTensor"
   ]
  },
  {
   "cell_type": "markdown",
   "metadata": {},
   "source": [
    "## Useful PyTorch functions"
   ]
  },
  {
   "cell_type": "markdown",
   "metadata": {},
   "source": [
    "### Tensors\n",
    "\n",
    "This assignment will use the PyTorch library for the required neural network functionality. You do not need to be familiar with the details of PyTorch or neural network training. However, the assignment will require dealing with data in the form of tensors.  \n",
    "\n",
    "The mini-batches used to train the PyTorch neural network is expected to be represented as a tensor matrix. The function `FloatTensor` can convert a list or NumPy matrix into a tensor matrix if needed. \n",
    "\n",
    "You can find more infomation here: https://pytorch.org/docs/stable/tensors.html"
   ]
  },
  {
   "cell_type": "code",
   "execution_count": 3,
   "metadata": {},
   "outputs": [
    {
     "name": "stdout",
     "output_type": "stream",
     "text": [
      "[[3, 2, 1], [6, 4, 5], [7, 8, 9]]\n",
      "<class 'torch.Tensor'>\n",
      "tensor([[3., 2., 1.],\n",
      "        [6., 4., 5.],\n",
      "        [7., 8., 9.]])\n"
     ]
    }
   ],
   "source": [
    "# list\n",
    "m = [[3,2,1],[6,4,5],[7,8,9]]\n",
    "print(m)\n",
    "\n",
    "# tensor matrix\n",
    "m_tensor = FloatTensor(m)\n",
    "print(type(m_tensor))\n",
    "print(m_tensor)"
   ]
  },
  {
   "cell_type": "markdown",
   "metadata": {},
   "source": [
    "### Tensor.max()\n",
    "Once you have a tenosr maxtrix, you can use torch.max(m_tensor, dim) to get the max value and max index corresponding to the dimension you choose.\n",
    "```\n",
    ">>> a = torch.randn(4, 4)\n",
    ">>> a\n",
    "tensor([[-1.2360, -0.2942, -0.1222,  0.8475],\n",
    "        [ 1.1949, -1.1127, -2.2379, -0.6702],\n",
    "        [ 1.5717, -0.9207,  0.1297, -1.8768],\n",
    "        [-0.6172,  1.0036, -0.6060, -0.2432]])\n",
    ">>> torch.max(a, 1)\n",
    "torch.return_types.max(values=tensor([0.8475, 1.1949, 1.5717, 1.0036]), indices=tensor([3, 0, 0, 1]))\n",
    "```\n",
    "You can find more infomation here: https://pytorch.org/docs/stable/torch.html#torch.max"
   ]
  },
  {
   "cell_type": "code",
   "execution_count": 4,
   "metadata": {},
   "outputs": [
    {
     "name": "stdout",
     "output_type": "stream",
     "text": [
      "tensor([3., 6., 9.]) tensor([0, 0, 2])\n"
     ]
    }
   ],
   "source": [
    "max_value, index = torch.max(m_tensor, dim = 1)\n",
    "print(max_value, index)"
   ]
  },
  {
   "cell_type": "markdown",
   "metadata": {},
   "source": [
    "## Initialize Environment\n",
    "### CartPole-v0:  \n",
    "CartPole is a classic control task that is often used as an introductory reinforcement learning benchmark. The environment involves controlling a 2d cart that can move in either the left or right direction on a frictionless track. A pole is attached to the cart via an unactuated joint. The system is controlled by applying a force of +1 or -1 to the cart. The pendulum starts upright, and the goal is to prevent it from falling over. A reward of +1 is provided for every timestep that the pole remains upright. The episode ends when the pole is more than 15 degrees from vertical, or the cart moves more than 2.4 units from the center.  \n",
    "(You can find more infomation by this Link: https://gym.openai.com/envs/CartPole-v0/)  \n",
    "  \n"
   ]
  },
  {
   "cell_type": "code",
   "execution_count": 5,
   "metadata": {},
   "outputs": [],
   "source": [
    "# Set the Env name and action space for CartPole\n",
    "ENV_NAME = 'CartPole-v0'\n",
    "# Move left, Move right\n",
    "ACTION_DICT = {\n",
    "    \"LEFT\": 0,\n",
    "    \"RIGHT\":1\n",
    "}\n",
    "# Register the environment\n",
    "env_CartPole = gym.make(ENV_NAME)"
   ]
  },
  {
   "cell_type": "code",
   "execution_count": 6,
   "metadata": {},
   "outputs": [],
   "source": [
    "# Set result saveing floder\n",
    "result_floder = ENV_NAME\n",
    "result_file = ENV_NAME + \"/results.txt\"\n",
    "if not os.path.isdir(result_floder):\n",
    "    os.mkdir(result_floder)"
   ]
  },
  {
   "cell_type": "markdown",
   "metadata": {},
   "source": [
    "## Helper Function\n",
    "Plot results."
   ]
  },
  {
   "cell_type": "code",
   "execution_count": 7,
   "metadata": {},
   "outputs": [],
   "source": [
    "def plot_result(total_rewards ,learning_num, legend):\n",
    "    print(\"\\nLearning Performance:\\n\")\n",
    "    episodes = []\n",
    "    for i in range(len(total_rewards)):\n",
    "        episodes.append(i * learning_num + 1)\n",
    "        \n",
    "    plt.figure(num = 1)\n",
    "    fig, ax = plt.subplots()\n",
    "    plt.plot(episodes, total_rewards)\n",
    "    plt.title('performance')\n",
    "    plt.legend(legend)\n",
    "    plt.xlabel(\"Episodes\")\n",
    "    plt.ylabel(\"total rewards\")\n",
    "    plt.show()"
   ]
  },
  {
   "cell_type": "markdown",
   "metadata": {},
   "source": [
    "## Hyperparams\n",
    "When function approximation is involves, especially neural networks, additional hyper parameters are inroduced and setting the parameters can require experience. Below is a list of the hyperparameters used in this assignment and values for the parameters that have worked well for a basic DQN implementation. You will adjust these values for particular parts of the assignment. For example, experiments that do not use the target network will set 'use_target_model' to False. \n",
    "\n",
    "You can find the more infomation about these hyperparameters in the notation of DQN_agent.init() function."
   ]
  },
  {
   "cell_type": "code",
   "execution_count": 18,
   "metadata": {},
   "outputs": [],
   "source": [
    "hyperparams_CartPole = {\n",
    "    'epsilon_decay_steps' : 100000, \n",
    "    'final_epsilon' : 0.1,\n",
    "    'batch_size' : 1, # 32, \n",
    "    'update_steps' : 1, # 10, \n",
    "    'memory_size' : 1, # 2000, \n",
    "    'beta' : 0.99, \n",
    "    'model_replace_freq' : 2000,\n",
    "    'learning_rate' : 0.0003,\n",
    "    'use_target_model': False\n",
    "}"
   ]
  },
  {
   "cell_type": "markdown",
   "metadata": {},
   "source": [
    "***\n",
    "# Part 1: Non-distributed DQN\n",
    "\n",
    "In this part, you will complete an implementation of DQN and run experiments on the CartPole environment from OpenAI Gym.  \n",
    "Note that OpenAI Gym has many other environments that use the same interface---so this experience will allow the curious student to easily explore these algorithms more widely. \n",
    "\n",
    "Below you need to fill in the missing code for the DQN implementation. \n",
    "\n",
    "The Run function below can then be used to generate learning curves. \n",
    "\n",
    "You should conduct the following experiments involving different features of DQN. \n",
    "\n",
    "1. DQN without a replay buffer and without a target network. This is just standard Q-learning with a function approximator.\n",
    "    The corresponding parameters are: memory_size = 1, update_steps = 1, batch_size = 1, use_target_model = False  \n",
    "    \n",
    "2. DQN without a replay buffer (but including the target network).   \n",
    "    The corresponding parameters are: memory_size = 1, update_steps = 1, batch_size = 1, use_target_model = True  \n",
    "\n",
    "3. DQN with a replay buffer, but without a target network.   \n",
    "    Here you set use_target_model = False and otherwise set the replay memory parameters to the above suggested values \n",
    "   \n",
    "4. Full DQN\n",
    "\n",
    "For each experiment, record the parameters that you used, plot the resulting learning curves, and give a summary of your observations regarding the differences you observed. \n",
    "***\n"
   ]
  },
  {
   "cell_type": "markdown",
   "metadata": {},
   "source": [
    "\n",
    "## DQN Agent\n",
    "\n",
    "The full DQN agent involves a number of functions, the neural network, and the replay memory. Interfaces to a neural network model and memory are provided. \n",
    "\n",
    "Some useful information is below:   \n",
    "- Neural Network Model: The network is used to represent the Q-function $Q(s,a)$. It takes a state $s$ as input and returns a vector of Q-values, one value for each action. The following interface functions are used for predicting Q-values, actions, and updating the neural network model parameters. \n",
    "    1. Model.predict(state) --- Returns the action that has the best Q-value in 'state'.\n",
    "    2. Model.predict_batch(states) --- This is used to predict both the Q-values and best actions for a batch of states. Given a batch of states, the function returns: 1) 'best_actions' a vector containing the best action for each input state, and 2) 'q_values' a matrix where each row gives the Q-value for all actions of each state (one row per state).   \n",
    "    3. Model.fit(q_values, q_target) --- It is used to update the neural network (via back-propagation). 'q_values' is a vector containing the Q-value predictions for a list of state-action pairs (e.g. from a batch of experience tuples). 'q_target' is a vector containing target values that we would like the correspoinding predictions to get closer to. This function updates the network in a way that the network predictions will ideally be closer to the targets. There is no return value.  \n",
    "    4. Model.replace(another_model) --- It takes another model as input, and replace the weight of itself by the input model.\n",
    "- Memory: This is the buffer used to store experience tuples for experience replay.\n",
    "    1. Memory.add(state, action, reward, state', is_terminal) --- It takes one example as input, and store it into its storage.  \n",
    "    2. Memory.sample(batch_size) --- It takes a batch_size int number as input. Return 'batch_size' number of randomly selected examples from the current memory buffer. The batch takes the form (states, actions, rewards, states', is_terminals) with each component being a vector/list of size equal to batch_size. "
   ]
  },
  {
   "cell_type": "code",
   "execution_count": 19,
   "metadata": {},
   "outputs": [],
   "source": [
    "class DQN_agent(object):\n",
    "    def __init__(self, env, hyper_params, action_space = len(ACTION_DICT)):\n",
    "        \n",
    "        self.env = env\n",
    "        self.max_episode_steps = env._max_episode_steps\n",
    "        \n",
    "        \"\"\"\n",
    "            beta: The discounted factor of Q-value function\n",
    "            (epsilon): The explore or exploit policy epsilon. \n",
    "            initial_epsilon: When the 'steps' is 0, the epsilon is initial_epsilon, 1\n",
    "            final_epsilon: After the number of 'steps' reach 'epsilon_decay_steps', \n",
    "                The epsilon set to the 'final_epsilon' determinately.\n",
    "            epsilon_decay_steps: The epsilon will decrease linearly along with the steps from 0 to 'epsilon_decay_steps'.\n",
    "        \"\"\"\n",
    "        self.beta = hyper_params['beta']\n",
    "        self.initial_epsilon = 1\n",
    "        self.final_epsilon = hyper_params['final_epsilon']\n",
    "        self.epsilon_decay_steps = hyper_params['epsilon_decay_steps']\n",
    "\n",
    "        \"\"\"\n",
    "            episode: Record training episode\n",
    "            steps: Add 1 when predicting an action\n",
    "            learning: The trigger of agent learning. It is on while training agent. It is off while testing agent.\n",
    "            action_space: The action space of the current environment, e.g 2.\n",
    "        \"\"\"\n",
    "        self.episode = 0\n",
    "        self.steps = 0\n",
    "        self.best_reward = 0\n",
    "        self.learning = True\n",
    "        self.action_space = action_space\n",
    "\n",
    "        \"\"\"\n",
    "            input_len The input length of the neural network. It equals to the length of the state vector.\n",
    "            output_len: The output length of the neural network. It is equal to the action space.\n",
    "            eval_model: The model for predicting action for the agent.\n",
    "            target_model: The model for calculating Q-value of next_state to update 'eval_model'.\n",
    "            use_target_model: Trigger for turn 'target_model' on/off\n",
    "        \"\"\"\n",
    "        state = env.reset()\n",
    "        input_len = len(state)\n",
    "        output_len = action_space\n",
    "        self.eval_model = DQNModel(input_len, output_len, learning_rate = hyper_params['learning_rate'])\n",
    "        self.use_target_model = hyper_params['use_target_model']\n",
    "        if self.use_target_model:\n",
    "            self.target_model = DQNModel(input_len, output_len)\n",
    "#         memory: Store and sample experience replay.\n",
    "        self.memory = ReplayBuffer(hyper_params['memory_size'])\n",
    "        \n",
    "        \"\"\"\n",
    "            batch_size: Mini batch size for training model.\n",
    "            update_steps: The frequence of traning model\n",
    "            model_replace_freq: The frequence of replacing 'target_model' by 'eval_model'\n",
    "        \"\"\"\n",
    "        self.batch_size = hyper_params['batch_size']\n",
    "        self.update_steps = hyper_params['update_steps']\n",
    "        self.model_replace_freq = hyper_params['model_replace_freq']\n",
    "        \n",
    "    # Linear decrease function for epsilon\n",
    "    def linear_decrease(self, initial_value, final_value, curr_steps, final_decay_steps):\n",
    "        decay_rate = curr_steps / final_decay_steps\n",
    "        if decay_rate > 1:\n",
    "            decay_rate = 1\n",
    "        return initial_value - (initial_value - final_value) * decay_rate\n",
    "    \n",
    "    def explore_or_exploit_policy(self, state):\n",
    "        p = uniform(0, 1)\n",
    "        # Get decreased epsilon\n",
    "        epsilon = self.linear_decrease(self.initial_epsilon, \n",
    "                               self.final_epsilon,\n",
    "                               self.steps,\n",
    "                               self.epsilon_decay_steps)\n",
    "        \n",
    "        if p < epsilon:\n",
    "            #return action\n",
    "            return randint(0, self.action_space - 1)\n",
    "        else:\n",
    "            #return action\n",
    "            return self.greedy_policy(state)\n",
    "        \n",
    "    def greedy_policy(self, state):\n",
    "        return self.eval_model.predict(state)\n",
    "    \n",
    "    # This next function will be called in the main RL loop to update the neural network model given a batch of experience\n",
    "    # 1) Sample a 'batch_size' batch of experiences from the memory.\n",
    "    # 2) Predict the Q-value from the 'eval_model' based on (states, actions)\n",
    "    # 3) Predict the Q-value from the 'target_model' base on (next_states), and take the max of each Q-value vector, Q_max\n",
    "    # 4) If is_terminal == 1, q_target = reward, otherwise q_target = reward + discounted factor * Q_max\n",
    "    # 5) Call fit() to do the back-propagation for 'eval_model'.\n",
    "    def update_batch(self):\n",
    "        if len(self.memory) < self.batch_size or self.steps % self.update_steps != 0:\n",
    "            return\n",
    "\n",
    "        batch = self.memory.sample(self.batch_size)\n",
    "\n",
    "        (states, actions, reward, next_states,\n",
    "         is_terminal) = batch\n",
    "        \n",
    "        states = states\n",
    "        next_states = next_states\n",
    "        terminal = FloatTensor([1 if t else 0 for t in is_terminal])\n",
    "        reward = FloatTensor(reward)\n",
    "        batch_index = torch.arange(self.batch_size,\n",
    "                                   dtype=torch.long)\n",
    "        \n",
    "        # Current Q Values\n",
    "        _, q_values = self.eval_model.predict_batch(states)\n",
    "        q_values = q_values[batch_index, actions]\n",
    "        \n",
    "        # Calculate target\n",
    "        if self.use_target_model:\n",
    "            actions, q_next = self.target_model.predict_batch(next_states)\n",
    "        else:\n",
    "            actions, q_next = self.eval_model.predict_batch(next_states)\n",
    "            \n",
    "        #INSERT YOUR CODE HERE --- neet to compute 'q_targets' used below\n",
    "        with torch.no_grad():\n",
    "            q_target = reward + self.beta * q_next[batch_index, actions] * (1 - terminal)\n",
    "        \n",
    "        # update model\n",
    "        self.eval_model.fit(q_values, q_target)\n",
    "    \n",
    "    def learn_and_evaluate(self, training_episodes, test_interval):\n",
    "        test_number = training_episodes // test_interval\n",
    "        all_results = []\n",
    "        \n",
    "        for i in range(test_number):\n",
    "            # learn\n",
    "            self.learn(test_interval)\n",
    "            \n",
    "            # evaluate\n",
    "            avg_reward = self.evaluate()\n",
    "            all_results.append(avg_reward)\n",
    "            \n",
    "        return all_results\n",
    "    \n",
    "    def learn(self, test_interval):\n",
    "        \n",
    "        for episode in tqdm(range(test_interval), desc=\"Training\"):\n",
    "            state = self.env.reset()\n",
    "            done = False\n",
    "            steps = 0\n",
    "\n",
    "            while steps < self.max_episode_steps and not done:\n",
    "                #INSERT YOUR CODE HERE\n",
    "                # add experience from explore-exploit policy to memory\n",
    "                # update the model every 'update_steps' of experience\n",
    "                # update the target network (if the target network is being used) every 'model_replace_freq' of experiences\n",
    "                \n",
    "                action = self.explore_or_exploit_policy(state)\n",
    "                next_state, reward, done, _ = self.env.step(action)\n",
    "                self.memory.add(state, action, reward, next_state, done)\n",
    "                state = next_state\n",
    "                \n",
    "                steps += 1\n",
    "                self.steps += 1\n",
    "                \n",
    "                if self.steps % self.update_steps == 0:\n",
    "                    self.update_batch()\n",
    "                    \n",
    "                if self.steps % self.model_replace_freq == 0 and self.use_target_model:\n",
    "                    self.target_model.replace(self.eval_model)\n",
    "                    \n",
    "            self.episode += 1\n",
    "                \n",
    "    def evaluate(self, trials = 30):\n",
    "        total_reward = 0\n",
    "        for _ in tqdm(range(trials), desc=\"Evaluating\"):\n",
    "            state = self.env.reset()\n",
    "            done = False\n",
    "            steps = 0\n",
    "\n",
    "            while steps < self.max_episode_steps and not done:\n",
    "                steps += 1\n",
    "                action = self.greedy_policy(state)\n",
    "                state, reward, done, _ = self.env.step(action)\n",
    "                total_reward += reward\n",
    "                \n",
    "        avg_reward = total_reward / trials\n",
    "        print(avg_reward)\n",
    "        f = open(result_file, \"a+\")\n",
    "        f.write(str(avg_reward) + \"\\n\")\n",
    "        f.close()\n",
    "        if avg_reward >= self.best_reward:\n",
    "            self.best_reward = avg_reward\n",
    "            self.save_model()\n",
    "        return avg_reward\n",
    "\n",
    "    # save model\n",
    "    def save_model(self):\n",
    "        self.eval_model.save(result_floder + '/best_model.pt')\n",
    "        \n",
    "    # load model\n",
    "    def load_model(self):\n",
    "        self.eval_model.load(result_floder + '/best_model.pt')"
   ]
  },
  {
   "cell_type": "markdown",
   "metadata": {},
   "source": [
    "## Run function"
   ]
  },
  {
   "cell_type": "code",
   "execution_count": 20,
   "metadata": {},
   "outputs": [
    {
     "name": "stderr",
     "output_type": "stream",
     "text": [
      "Training: 100%|█████████████████████████████████| 50/50 [00:01<00:00, 42.55it/s]\n",
      "Evaluating: 100%|██████████████████████████████| 30/30 [00:00<00:00, 819.24it/s]\n",
      "Training:   8%|██▋                               | 4/50 [00:00<00:01, 39.86it/s]"
     ]
    },
    {
     "name": "stdout",
     "output_type": "stream",
     "text": [
      "9.5\n"
     ]
    },
    {
     "name": "stderr",
     "output_type": "stream",
     "text": [
      "Training: 100%|█████████████████████████████████| 50/50 [00:00<00:00, 52.80it/s]\n",
      "Evaluating: 100%|██████████████████████████████| 30/30 [00:00<00:00, 805.31it/s]\n",
      "Training:  12%|████                              | 6/50 [00:00<00:00, 47.54it/s]"
     ]
    },
    {
     "name": "stdout",
     "output_type": "stream",
     "text": [
      "9.433333333333334\n"
     ]
    },
    {
     "name": "stderr",
     "output_type": "stream",
     "text": [
      "Training: 100%|█████████████████████████████████| 50/50 [00:00<00:00, 51.45it/s]\n",
      "Evaluating: 100%|██████████████████████████████| 30/30 [00:00<00:00, 831.83it/s]\n",
      "Training:  12%|████                              | 6/50 [00:00<00:00, 55.35it/s]"
     ]
    },
    {
     "name": "stdout",
     "output_type": "stream",
     "text": [
      "9.3\n"
     ]
    },
    {
     "name": "stderr",
     "output_type": "stream",
     "text": [
      "Training: 100%|█████████████████████████████████| 50/50 [00:00<00:00, 52.32it/s]\n",
      "Evaluating: 100%|██████████████████████████████| 30/30 [00:00<00:00, 832.04it/s]\n",
      "Training:  12%|████                              | 6/50 [00:00<00:00, 55.09it/s]"
     ]
    },
    {
     "name": "stdout",
     "output_type": "stream",
     "text": [
      "9.533333333333333\n"
     ]
    },
    {
     "name": "stderr",
     "output_type": "stream",
     "text": [
      "Training: 100%|█████████████████████████████████| 50/50 [00:01<00:00, 48.72it/s]\n",
      "Evaluating: 100%|██████████████████████████████| 30/30 [00:00<00:00, 782.67it/s]\n",
      "Training:  10%|███▍                              | 5/50 [00:00<00:00, 46.55it/s]"
     ]
    },
    {
     "name": "stdout",
     "output_type": "stream",
     "text": [
      "9.5\n"
     ]
    },
    {
     "name": "stderr",
     "output_type": "stream",
     "text": [
      "Training: 100%|█████████████████████████████████| 50/50 [00:00<00:00, 51.36it/s]\n",
      "Evaluating: 100%|██████████████████████████████| 30/30 [00:00<00:00, 828.30it/s]\n",
      "Training:  12%|████                              | 6/50 [00:00<00:00, 47.64it/s]"
     ]
    },
    {
     "name": "stdout",
     "output_type": "stream",
     "text": [
      "9.2\n"
     ]
    },
    {
     "name": "stderr",
     "output_type": "stream",
     "text": [
      "Training: 100%|█████████████████████████████████| 50/50 [00:00<00:00, 51.68it/s]\n",
      "Evaluating: 100%|██████████████████████████████| 30/30 [00:00<00:00, 812.32it/s]\n",
      "Training:   8%|██▋                               | 4/50 [00:00<00:01, 39.72it/s]"
     ]
    },
    {
     "name": "stdout",
     "output_type": "stream",
     "text": [
      "9.466666666666667\n"
     ]
    },
    {
     "name": "stderr",
     "output_type": "stream",
     "text": [
      "Training: 100%|█████████████████████████████████| 50/50 [00:01<00:00, 42.54it/s]\n",
      "Evaluating: 100%|██████████████████████████████| 30/30 [00:00<00:00, 804.94it/s]\n",
      "Training:   8%|██▋                               | 4/50 [00:00<00:01, 38.41it/s]"
     ]
    },
    {
     "name": "stdout",
     "output_type": "stream",
     "text": [
      "9.2\n"
     ]
    },
    {
     "name": "stderr",
     "output_type": "stream",
     "text": [
      "Training: 100%|█████████████████████████████████| 50/50 [00:01<00:00, 44.76it/s]\n",
      "Evaluating: 100%|██████████████████████████████| 30/30 [00:00<00:00, 850.24it/s]\n",
      "Training:   8%|██▋                               | 4/50 [00:00<00:01, 33.45it/s]"
     ]
    },
    {
     "name": "stdout",
     "output_type": "stream",
     "text": [
      "9.133333333333333\n"
     ]
    },
    {
     "name": "stderr",
     "output_type": "stream",
     "text": [
      "Training: 100%|█████████████████████████████████| 50/50 [00:01<00:00, 41.61it/s]\n",
      "Evaluating: 100%|██████████████████████████████| 30/30 [00:00<00:00, 635.41it/s]\n",
      "Training:  10%|███▍                              | 5/50 [00:00<00:01, 34.35it/s]"
     ]
    },
    {
     "name": "stdout",
     "output_type": "stream",
     "text": [
      "12.533333333333333\n"
     ]
    },
    {
     "name": "stderr",
     "output_type": "stream",
     "text": [
      "Training: 100%|█████████████████████████████████| 50/50 [00:00<00:00, 52.24it/s]\n",
      "Evaluating: 100%|██████████████████████████████| 30/30 [00:00<00:00, 802.68it/s]\n",
      "Training:  10%|███▍                              | 5/50 [00:00<00:01, 43.33it/s]"
     ]
    },
    {
     "name": "stdout",
     "output_type": "stream",
     "text": [
      "9.366666666666667\n"
     ]
    },
    {
     "name": "stderr",
     "output_type": "stream",
     "text": [
      "Training: 100%|█████████████████████████████████| 50/50 [00:00<00:00, 50.78it/s]\n",
      "Evaluating: 100%|██████████████████████████████| 30/30 [00:00<00:00, 838.88it/s]\n",
      "Training:  14%|████▊                             | 7/50 [00:00<00:00, 61.97it/s]"
     ]
    },
    {
     "name": "stdout",
     "output_type": "stream",
     "text": [
      "9.233333333333333\n"
     ]
    },
    {
     "name": "stderr",
     "output_type": "stream",
     "text": [
      "Training: 100%|█████████████████████████████████| 50/50 [00:00<00:00, 56.78it/s]\n",
      "Evaluating: 100%|██████████████████████████████| 30/30 [00:00<00:00, 819.32it/s]\n",
      "Training:  14%|████▊                             | 7/50 [00:00<00:00, 51.73it/s]"
     ]
    },
    {
     "name": "stdout",
     "output_type": "stream",
     "text": [
      "9.466666666666667\n"
     ]
    },
    {
     "name": "stderr",
     "output_type": "stream",
     "text": [
      "Training: 100%|█████████████████████████████████| 50/50 [00:00<00:00, 53.00it/s]\n",
      "Evaluating: 100%|██████████████████████████████| 30/30 [00:00<00:00, 811.94it/s]\n",
      "Training:  10%|███▍                              | 5/50 [00:00<00:00, 46.03it/s]"
     ]
    },
    {
     "name": "stdout",
     "output_type": "stream",
     "text": [
      "9.5\n"
     ]
    },
    {
     "name": "stderr",
     "output_type": "stream",
     "text": [
      "Training: 100%|█████████████████████████████████| 50/50 [00:01<00:00, 48.17it/s]\n",
      "Evaluating: 100%|██████████████████████████████| 30/30 [00:00<00:00, 833.10it/s]\n",
      "Training:  12%|████                              | 6/50 [00:00<00:00, 55.11it/s]"
     ]
    },
    {
     "name": "stdout",
     "output_type": "stream",
     "text": [
      "9.3\n"
     ]
    },
    {
     "name": "stderr",
     "output_type": "stream",
     "text": [
      "Training: 100%|█████████████████████████████████| 50/50 [00:00<00:00, 50.12it/s]\n",
      "Evaluating: 100%|██████████████████████████████| 30/30 [00:00<00:00, 835.68it/s]\n",
      "Training:  10%|███▍                              | 5/50 [00:00<00:00, 46.80it/s]"
     ]
    },
    {
     "name": "stdout",
     "output_type": "stream",
     "text": [
      "9.366666666666667\n"
     ]
    },
    {
     "name": "stderr",
     "output_type": "stream",
     "text": [
      "Training: 100%|█████████████████████████████████| 50/50 [00:01<00:00, 40.81it/s]\n",
      "Evaluating: 100%|██████████████████████████████| 30/30 [00:00<00:00, 815.16it/s]\n",
      "Training:  14%|████▊                             | 7/50 [00:00<00:00, 59.13it/s]"
     ]
    },
    {
     "name": "stdout",
     "output_type": "stream",
     "text": [
      "9.633333333333333\n"
     ]
    },
    {
     "name": "stderr",
     "output_type": "stream",
     "text": [
      "Training: 100%|█████████████████████████████████| 50/50 [00:01<00:00, 46.94it/s]\n",
      "Evaluating: 100%|███████████████████████████████| 30/30 [00:00<00:00, 62.65it/s]\n",
      "Training:  10%|███▍                              | 5/50 [00:00<00:00, 48.48it/s]"
     ]
    },
    {
     "name": "stdout",
     "output_type": "stream",
     "text": [
      "141.9\n"
     ]
    },
    {
     "name": "stderr",
     "output_type": "stream",
     "text": [
      "Training: 100%|█████████████████████████████████| 50/50 [00:01<00:00, 47.72it/s]\n",
      "Evaluating: 100%|██████████████████████████████| 30/30 [00:00<00:00, 768.29it/s]\n",
      "Training:  10%|███▍                              | 5/50 [00:00<00:00, 48.61it/s]"
     ]
    },
    {
     "name": "stdout",
     "output_type": "stream",
     "text": [
      "9.733333333333333\n"
     ]
    },
    {
     "name": "stderr",
     "output_type": "stream",
     "text": [
      "Training: 100%|█████████████████████████████████| 50/50 [00:01<00:00, 38.38it/s]\n",
      "Evaluating: 100%|██████████████████████████████| 30/30 [00:00<00:00, 126.21it/s]\n",
      "Training:   8%|██▋                               | 4/50 [00:00<00:01, 30.68it/s]"
     ]
    },
    {
     "name": "stdout",
     "output_type": "stream",
     "text": [
      "67.5\n"
     ]
    },
    {
     "name": "stderr",
     "output_type": "stream",
     "text": [
      "Training: 100%|█████████████████████████████████| 50/50 [00:01<00:00, 33.92it/s]\n",
      "Evaluating: 100%|██████████████████████████████| 30/30 [00:00<00:00, 472.47it/s]\n",
      "Training:   8%|██▋                               | 4/50 [00:00<00:01, 36.89it/s]"
     ]
    },
    {
     "name": "stdout",
     "output_type": "stream",
     "text": [
      "17.066666666666666\n"
     ]
    },
    {
     "name": "stderr",
     "output_type": "stream",
     "text": [
      "Training: 100%|█████████████████████████████████| 50/50 [00:01<00:00, 35.05it/s]\n",
      "Evaluating: 100%|███████████████████████████████| 30/30 [00:00<00:00, 45.71it/s]\n",
      "Training:  10%|███▍                              | 5/50 [00:00<00:01, 33.54it/s]"
     ]
    },
    {
     "name": "stdout",
     "output_type": "stream",
     "text": [
      "200.0\n"
     ]
    },
    {
     "name": "stderr",
     "output_type": "stream",
     "text": [
      "Training: 100%|█████████████████████████████████| 50/50 [00:01<00:00, 34.13it/s]\n",
      "Evaluating: 100%|███████████████████████████████| 30/30 [00:00<00:00, 78.41it/s]\n",
      "Training:   8%|██▋                               | 4/50 [00:00<00:01, 37.26it/s]"
     ]
    },
    {
     "name": "stdout",
     "output_type": "stream",
     "text": [
      "115.83333333333333\n"
     ]
    },
    {
     "name": "stderr",
     "output_type": "stream",
     "text": [
      "Training: 100%|█████████████████████████████████| 50/50 [00:01<00:00, 28.13it/s]\n",
      "Evaluating: 100%|███████████████████████████████| 30/30 [00:00<00:00, 52.81it/s]\n",
      "Training:   6%|██                                | 3/50 [00:00<00:02, 20.64it/s]"
     ]
    },
    {
     "name": "stdout",
     "output_type": "stream",
     "text": [
      "173.56666666666666\n"
     ]
    },
    {
     "name": "stderr",
     "output_type": "stream",
     "text": [
      "Training: 100%|█████████████████████████████████| 50/50 [00:01<00:00, 30.06it/s]\n",
      "Evaluating: 100%|███████████████████████████████| 30/30 [00:00<00:00, 78.77it/s]\n",
      "Training:   8%|██▋                               | 4/50 [00:00<00:01, 37.50it/s]"
     ]
    },
    {
     "name": "stdout",
     "output_type": "stream",
     "text": [
      "115.6\n"
     ]
    },
    {
     "name": "stderr",
     "output_type": "stream",
     "text": [
      "Training: 100%|█████████████████████████████████| 50/50 [00:01<00:00, 29.98it/s]\n",
      "Evaluating: 100%|███████████████████████████████| 30/30 [00:00<00:00, 72.92it/s]\n",
      "Training:   6%|██                                | 3/50 [00:00<00:01, 28.28it/s]"
     ]
    },
    {
     "name": "stdout",
     "output_type": "stream",
     "text": [
      "125.3\n"
     ]
    },
    {
     "name": "stderr",
     "output_type": "stream",
     "text": [
      "Training: 100%|█████████████████████████████████| 50/50 [00:01<00:00, 35.55it/s]\n",
      "Evaluating: 100%|███████████████████████████████| 30/30 [00:00<00:00, 45.87it/s]\n",
      "Training:  10%|███▍                              | 5/50 [00:00<00:01, 35.02it/s]"
     ]
    },
    {
     "name": "stdout",
     "output_type": "stream",
     "text": [
      "200.0\n"
     ]
    },
    {
     "name": "stderr",
     "output_type": "stream",
     "text": [
      "Training: 100%|█████████████████████████████████| 50/50 [00:01<00:00, 29.71it/s]\n",
      "Evaluating: 100%|███████████████████████████████| 30/30 [00:00<00:00, 49.25it/s]\n",
      "Training:  12%|████                              | 6/50 [00:00<00:00, 54.15it/s]"
     ]
    },
    {
     "name": "stdout",
     "output_type": "stream",
     "text": [
      "186.4\n"
     ]
    },
    {
     "name": "stderr",
     "output_type": "stream",
     "text": [
      "Training: 100%|█████████████████████████████████| 50/50 [00:01<00:00, 38.08it/s]\n",
      "Evaluating: 100%|██████████████████████████████| 30/30 [00:00<00:00, 227.88it/s]\n",
      "Training:   6%|██                                | 3/50 [00:00<00:01, 28.49it/s]"
     ]
    },
    {
     "name": "stdout",
     "output_type": "stream",
     "text": [
      "37.733333333333334\n"
     ]
    },
    {
     "name": "stderr",
     "output_type": "stream",
     "text": [
      "Training: 100%|█████████████████████████████████| 50/50 [00:02<00:00, 22.73it/s]\n",
      "Evaluating: 100%|███████████████████████████████| 30/30 [00:00<00:00, 78.51it/s]\n",
      "Training:   6%|██                                | 3/50 [00:00<00:01, 25.56it/s]"
     ]
    },
    {
     "name": "stdout",
     "output_type": "stream",
     "text": [
      "116.56666666666666\n"
     ]
    },
    {
     "name": "stderr",
     "output_type": "stream",
     "text": [
      "Training: 100%|█████████████████████████████████| 50/50 [00:02<00:00, 23.99it/s]\n",
      "Evaluating: 100%|███████████████████████████████| 30/30 [00:00<00:00, 61.48it/s]\n",
      "Training:   2%|▋                                 | 1/50 [00:00<00:05,  9.26it/s]"
     ]
    },
    {
     "name": "stdout",
     "output_type": "stream",
     "text": [
      "149.4\n"
     ]
    },
    {
     "name": "stderr",
     "output_type": "stream",
     "text": [
      "Training: 100%|█████████████████████████████████| 50/50 [00:02<00:00, 19.64it/s]\n",
      "Evaluating: 100%|███████████████████████████████| 30/30 [00:00<00:00, 50.83it/s]\n",
      "Training:   8%|██▋                               | 4/50 [00:00<00:01, 34.35it/s]"
     ]
    },
    {
     "name": "stdout",
     "output_type": "stream",
     "text": [
      "180.93333333333334\n"
     ]
    },
    {
     "name": "stderr",
     "output_type": "stream",
     "text": [
      "Training: 100%|█████████████████████████████████| 50/50 [00:02<00:00, 19.69it/s]\n",
      "Evaluating: 100%|███████████████████████████████| 30/30 [00:00<00:00, 46.03it/s]\n",
      "Training:  10%|███▍                              | 5/50 [00:00<00:00, 45.86it/s]"
     ]
    },
    {
     "name": "stdout",
     "output_type": "stream",
     "text": [
      "200.0\n"
     ]
    },
    {
     "name": "stderr",
     "output_type": "stream",
     "text": [
      "Training: 100%|█████████████████████████████████| 50/50 [00:01<00:00, 38.56it/s]\n",
      "Evaluating: 100%|██████████████████████████████| 30/30 [00:00<00:00, 239.68it/s]\n",
      "Training:   0%|                                          | 0/50 [00:00<?, ?it/s]"
     ]
    },
    {
     "name": "stdout",
     "output_type": "stream",
     "text": [
      "36.0\n"
     ]
    },
    {
     "name": "stderr",
     "output_type": "stream",
     "text": [
      "Training: 100%|█████████████████████████████████| 50/50 [00:02<00:00, 17.62it/s]\n",
      "Evaluating: 100%|███████████████████████████████| 30/30 [00:00<00:00, 87.82it/s]\n",
      "Training:   6%|██                                | 3/50 [00:00<00:02, 19.83it/s]"
     ]
    },
    {
     "name": "stdout",
     "output_type": "stream",
     "text": [
      "103.03333333333333\n"
     ]
    },
    {
     "name": "stderr",
     "output_type": "stream",
     "text": [
      "Training: 100%|█████████████████████████████████| 50/50 [00:02<00:00, 18.79it/s]\n",
      "Evaluating: 100%|███████████████████████████████| 30/30 [00:00<00:00, 57.23it/s]\n",
      "Training:   2%|▋                                 | 1/50 [00:00<00:06,  7.05it/s]"
     ]
    },
    {
     "name": "stdout",
     "output_type": "stream",
     "text": [
      "160.63333333333333\n"
     ]
    },
    {
     "name": "stderr",
     "output_type": "stream",
     "text": [
      "Training: 100%|█████████████████████████████████| 50/50 [00:02<00:00, 16.91it/s]\n",
      "Evaluating: 100%|██████████████████████████████| 30/30 [00:00<00:00, 351.24it/s]\n",
      "Training:   6%|██                                | 3/50 [00:00<00:01, 24.66it/s]"
     ]
    },
    {
     "name": "stdout",
     "output_type": "stream",
     "text": [
      "24.633333333333333\n"
     ]
    },
    {
     "name": "stderr",
     "output_type": "stream",
     "text": [
      "Training: 100%|█████████████████████████████████| 50/50 [00:01<00:00, 39.70it/s]\n",
      "Evaluating: 100%|██████████████████████████████| 30/30 [00:00<00:00, 238.47it/s]\n",
      "Training:  10%|███▍                              | 5/50 [00:00<00:00, 45.69it/s]"
     ]
    },
    {
     "name": "stdout",
     "output_type": "stream",
     "text": [
      "36.266666666666666\n"
     ]
    },
    {
     "name": "stderr",
     "output_type": "stream",
     "text": [
      "Training: 100%|█████████████████████████████████| 50/50 [00:01<00:00, 29.02it/s]\n",
      "Evaluating: 100%|███████████████████████████████| 30/30 [00:00<00:00, 74.84it/s]\n",
      "Training:  12%|████                              | 6/50 [00:00<00:00, 55.96it/s]"
     ]
    },
    {
     "name": "stdout",
     "output_type": "stream",
     "text": [
      "121.73333333333333\n"
     ]
    },
    {
     "name": "stderr",
     "output_type": "stream",
     "text": [
      "Training: 100%|█████████████████████████████████| 50/50 [00:01<00:00, 36.77it/s]\n",
      "Evaluating: 100%|██████████████████████████████| 30/30 [00:00<00:00, 107.81it/s]\n",
      "Training:  10%|███▍                              | 5/50 [00:00<00:01, 40.81it/s]"
     ]
    },
    {
     "name": "stdout",
     "output_type": "stream",
     "text": [
      "83.13333333333334\n"
     ]
    },
    {
     "name": "stderr",
     "output_type": "stream",
     "text": [
      "Training: 100%|█████████████████████████████████| 50/50 [00:02<00:00, 19.34it/s]\n",
      "Evaluating: 100%|███████████████████████████████| 30/30 [00:00<00:00, 73.64it/s]\n",
      "Training:   4%|█▎                                | 2/50 [00:00<00:03, 12.07it/s]"
     ]
    },
    {
     "name": "stdout",
     "output_type": "stream",
     "text": [
      "123.76666666666667\n"
     ]
    },
    {
     "name": "stderr",
     "output_type": "stream",
     "text": [
      "Training: 100%|█████████████████████████████████| 50/50 [00:01<00:00, 25.21it/s]\n",
      "Evaluating: 100%|███████████████████████████████| 30/30 [00:00<00:00, 90.54it/s]\n",
      "Training:   2%|▋                                 | 1/50 [00:00<00:05,  9.69it/s]"
     ]
    },
    {
     "name": "stdout",
     "output_type": "stream",
     "text": [
      "100.06666666666666\n"
     ]
    },
    {
     "name": "stderr",
     "output_type": "stream",
     "text": [
      "Training: 100%|█████████████████████████████████| 50/50 [00:02<00:00, 16.78it/s]\n",
      "Evaluating: 100%|███████████████████████████████| 30/30 [00:00<00:00, 94.95it/s]\n",
      "Training:   4%|█▎                                | 2/50 [00:00<00:02, 16.28it/s]"
     ]
    },
    {
     "name": "stdout",
     "output_type": "stream",
     "text": [
      "94.3\n"
     ]
    },
    {
     "name": "stderr",
     "output_type": "stream",
     "text": [
      "Training: 100%|█████████████████████████████████| 50/50 [00:02<00:00, 22.90it/s]\n",
      "Evaluating: 100%|███████████████████████████████| 30/30 [00:00<00:00, 80.42it/s]\n",
      "Training:   2%|▋                                 | 1/50 [00:00<00:05,  9.66it/s]"
     ]
    },
    {
     "name": "stdout",
     "output_type": "stream",
     "text": [
      "112.93333333333334\n"
     ]
    },
    {
     "name": "stderr",
     "output_type": "stream",
     "text": [
      "Training: 100%|█████████████████████████████████| 50/50 [00:02<00:00, 21.99it/s]\n",
      "Evaluating: 100%|███████████████████████████████| 30/30 [00:00<00:00, 96.85it/s]\n",
      "Training:   8%|██▋                               | 4/50 [00:00<00:01, 28.11it/s]"
     ]
    },
    {
     "name": "stdout",
     "output_type": "stream",
     "text": [
      "93.36666666666666\n"
     ]
    },
    {
     "name": "stderr",
     "output_type": "stream",
     "text": [
      "Training: 100%|█████████████████████████████████| 50/50 [00:04<00:00, 12.13it/s]\n",
      "Evaluating: 100%|███████████████████████████████| 30/30 [00:00<00:00, 74.96it/s]\n",
      "Training:  10%|███▍                              | 5/50 [00:00<00:00, 45.46it/s]"
     ]
    },
    {
     "name": "stdout",
     "output_type": "stream",
     "text": [
      "120.96666666666667\n"
     ]
    },
    {
     "name": "stderr",
     "output_type": "stream",
     "text": [
      "Training: 100%|█████████████████████████████████| 50/50 [00:04<00:00, 11.64it/s]\n",
      "Evaluating: 100%|███████████████████████████████| 30/30 [00:00<00:00, 94.11it/s]\n",
      "Training:   0%|                                          | 0/50 [00:00<?, ?it/s]"
     ]
    },
    {
     "name": "stdout",
     "output_type": "stream",
     "text": [
      "96.56666666666666\n"
     ]
    },
    {
     "name": "stderr",
     "output_type": "stream",
     "text": [
      "Training: 100%|█████████████████████████████████| 50/50 [00:03<00:00, 13.43it/s]\n",
      "Evaluating: 100%|███████████████████████████████| 30/30 [00:00<00:00, 58.62it/s]\n",
      "Training:   0%|                                          | 0/50 [00:00<?, ?it/s]"
     ]
    },
    {
     "name": "stdout",
     "output_type": "stream",
     "text": [
      "157.03333333333333\n"
     ]
    },
    {
     "name": "stderr",
     "output_type": "stream",
     "text": [
      "Training: 100%|█████████████████████████████████| 50/50 [00:03<00:00, 12.82it/s]\n",
      "Evaluating: 100%|███████████████████████████████| 30/30 [00:00<00:00, 46.04it/s]\n",
      "Training:   2%|▋                                 | 1/50 [00:00<00:06,  7.20it/s]"
     ]
    },
    {
     "name": "stdout",
     "output_type": "stream",
     "text": [
      "200.0\n"
     ]
    },
    {
     "name": "stderr",
     "output_type": "stream",
     "text": [
      "Training: 100%|█████████████████████████████████| 50/50 [00:04<00:00, 11.97it/s]\n",
      "Evaluating: 100%|██████████████████████████████| 30/30 [00:00<00:00, 440.81it/s]\n",
      "Training:   2%|▋                                 | 1/50 [00:00<00:05,  9.38it/s]"
     ]
    },
    {
     "name": "stdout",
     "output_type": "stream",
     "text": [
      "19.5\n"
     ]
    },
    {
     "name": "stderr",
     "output_type": "stream",
     "text": [
      "Training: 100%|█████████████████████████████████| 50/50 [00:04<00:00, 12.41it/s]\n",
      "Evaluating: 100%|██████████████████████████████| 30/30 [00:00<00:00, 102.65it/s]\n",
      "Training:   2%|▋                                 | 1/50 [00:00<00:05,  9.23it/s]"
     ]
    },
    {
     "name": "stdout",
     "output_type": "stream",
     "text": [
      "86.9\n"
     ]
    },
    {
     "name": "stderr",
     "output_type": "stream",
     "text": [
      "Training: 100%|█████████████████████████████████| 50/50 [00:04<00:00, 10.69it/s]\n",
      "Evaluating: 100%|███████████████████████████████| 30/30 [00:00<00:00, 92.05it/s]\n",
      "Training:   2%|▋                                 | 1/50 [00:00<00:05,  8.97it/s]"
     ]
    },
    {
     "name": "stdout",
     "output_type": "stream",
     "text": [
      "97.26666666666667\n"
     ]
    },
    {
     "name": "stderr",
     "output_type": "stream",
     "text": [
      "Training: 100%|█████████████████████████████████| 50/50 [00:04<00:00, 10.41it/s]\n",
      "Evaluating: 100%|███████████████████████████████| 30/30 [00:00<00:00, 70.86it/s]\n",
      "Training:   2%|▋                                 | 1/50 [00:00<00:05,  8.18it/s]"
     ]
    },
    {
     "name": "stdout",
     "output_type": "stream",
     "text": [
      "129.26666666666668\n"
     ]
    },
    {
     "name": "stderr",
     "output_type": "stream",
     "text": [
      "Training: 100%|█████████████████████████████████| 50/50 [00:05<00:00,  8.58it/s]\n",
      "Evaluating: 100%|███████████████████████████████| 30/30 [00:00<00:00, 78.38it/s]\n",
      "Training:   2%|▋                                 | 1/50 [00:00<00:05,  8.39it/s]"
     ]
    },
    {
     "name": "stdout",
     "output_type": "stream",
     "text": [
      "115.66666666666667\n"
     ]
    },
    {
     "name": "stderr",
     "output_type": "stream",
     "text": [
      "Training: 100%|█████████████████████████████████| 50/50 [00:06<00:00,  7.43it/s]\n",
      "Evaluating: 100%|███████████████████████████████| 30/30 [00:00<00:00, 46.16it/s]\n",
      "Training:   0%|                                          | 0/50 [00:00<?, ?it/s]"
     ]
    },
    {
     "name": "stdout",
     "output_type": "stream",
     "text": [
      "200.0\n"
     ]
    },
    {
     "name": "stderr",
     "output_type": "stream",
     "text": [
      "Training: 100%|█████████████████████████████████| 50/50 [00:06<00:00,  7.17it/s]\n",
      "Evaluating: 100%|███████████████████████████████| 30/30 [00:00<00:00, 45.42it/s]\n",
      "Training:   0%|                                          | 0/50 [00:00<?, ?it/s]"
     ]
    },
    {
     "name": "stdout",
     "output_type": "stream",
     "text": [
      "200.0\n"
     ]
    },
    {
     "name": "stderr",
     "output_type": "stream",
     "text": [
      "Training: 100%|█████████████████████████████████| 50/50 [00:08<00:00,  5.78it/s]\n",
      "Evaluating: 100%|███████████████████████████████| 30/30 [00:00<00:00, 63.89it/s]\n",
      "Training:   8%|██▋                               | 4/50 [00:00<00:01, 37.18it/s]"
     ]
    },
    {
     "name": "stdout",
     "output_type": "stream",
     "text": [
      "140.03333333333333\n"
     ]
    },
    {
     "name": "stderr",
     "output_type": "stream",
     "text": [
      "Training: 100%|█████████████████████████████████| 50/50 [00:08<00:00,  5.91it/s]\n",
      "Evaluating: 100%|███████████████████████████████| 30/30 [00:00<00:00, 45.06it/s]\n",
      "Training:   0%|                                          | 0/50 [00:00<?, ?it/s]"
     ]
    },
    {
     "name": "stdout",
     "output_type": "stream",
     "text": [
      "200.0\n"
     ]
    },
    {
     "name": "stderr",
     "output_type": "stream",
     "text": [
      "Training: 100%|█████████████████████████████████| 50/50 [00:07<00:00,  6.64it/s]\n",
      "Evaluating: 100%|██████████████████████████████| 30/30 [00:00<00:00, 801.57it/s]\n",
      "Training:   0%|                                          | 0/50 [00:00<?, ?it/s]"
     ]
    },
    {
     "name": "stdout",
     "output_type": "stream",
     "text": [
      "9.633333333333333\n"
     ]
    },
    {
     "name": "stderr",
     "output_type": "stream",
     "text": [
      "Training: 100%|█████████████████████████████████| 50/50 [00:05<00:00,  9.74it/s]\n",
      "Evaluating: 100%|███████████████████████████████| 30/30 [00:00<00:00, 46.60it/s]\n",
      "Training:   0%|                                          | 0/50 [00:00<?, ?it/s]"
     ]
    },
    {
     "name": "stdout",
     "output_type": "stream",
     "text": [
      "193.86666666666667\n"
     ]
    },
    {
     "name": "stderr",
     "output_type": "stream",
     "text": [
      "Training: 100%|█████████████████████████████████| 50/50 [00:05<00:00,  9.92it/s]\n",
      "Evaluating: 100%|██████████████████████████████| 30/30 [00:00<00:00, 808.29it/s]\n",
      "Training:   0%|                                          | 0/50 [00:00<?, ?it/s]"
     ]
    },
    {
     "name": "stdout",
     "output_type": "stream",
     "text": [
      "9.3\n"
     ]
    },
    {
     "name": "stderr",
     "output_type": "stream",
     "text": [
      "Training: 100%|█████████████████████████████████| 50/50 [00:06<00:00,  7.21it/s]\n",
      "Evaluating: 100%|██████████████████████████████| 30/30 [00:00<00:00, 865.92it/s]\n",
      "Training:   0%|                                          | 0/50 [00:00<?, ?it/s]"
     ]
    },
    {
     "name": "stdout",
     "output_type": "stream",
     "text": [
      "9.466666666666667\n"
     ]
    },
    {
     "name": "stderr",
     "output_type": "stream",
     "text": [
      "Training: 100%|█████████████████████████████████| 50/50 [00:05<00:00,  9.40it/s]\n",
      "Evaluating: 100%|███████████████████████████████| 30/30 [00:00<00:00, 45.37it/s]\n",
      "Training:   4%|█▎                                | 2/50 [00:00<00:02, 16.94it/s]"
     ]
    },
    {
     "name": "stdout",
     "output_type": "stream",
     "text": [
      "200.0\n"
     ]
    },
    {
     "name": "stderr",
     "output_type": "stream",
     "text": [
      "Training: 100%|█████████████████████████████████| 50/50 [00:06<00:00,  7.96it/s]\n",
      "Evaluating: 100%|███████████████████████████████| 30/30 [00:00<00:00, 64.57it/s]\n",
      "Training:   0%|                                          | 0/50 [00:00<?, ?it/s]"
     ]
    },
    {
     "name": "stdout",
     "output_type": "stream",
     "text": [
      "139.03333333333333\n"
     ]
    },
    {
     "name": "stderr",
     "output_type": "stream",
     "text": [
      "Training: 100%|█████████████████████████████████| 50/50 [00:06<00:00,  8.14it/s]\n",
      "Evaluating: 100%|██████████████████████████████| 30/30 [00:00<00:00, 105.20it/s]\n",
      "Training:   0%|                                          | 0/50 [00:00<?, ?it/s]"
     ]
    },
    {
     "name": "stdout",
     "output_type": "stream",
     "text": [
      "82.83333333333333\n"
     ]
    },
    {
     "name": "stderr",
     "output_type": "stream",
     "text": [
      "Training: 100%|█████████████████████████████████| 50/50 [00:05<00:00,  9.79it/s]\n",
      "Evaluating: 100%|███████████████████████████████| 30/30 [00:00<00:00, 90.34it/s]\n",
      "Training:   0%|                                          | 0/50 [00:00<?, ?it/s]"
     ]
    },
    {
     "name": "stdout",
     "output_type": "stream",
     "text": [
      "98.3\n"
     ]
    },
    {
     "name": "stderr",
     "output_type": "stream",
     "text": [
      "Training: 100%|█████████████████████████████████| 50/50 [00:07<00:00,  7.02it/s]\n",
      "Evaluating: 100%|██████████████████████████████| 30/30 [00:00<00:00, 401.23it/s]\n",
      "Training:   0%|                                          | 0/50 [00:00<?, ?it/s]"
     ]
    },
    {
     "name": "stdout",
     "output_type": "stream",
     "text": [
      "20.333333333333332\n"
     ]
    },
    {
     "name": "stderr",
     "output_type": "stream",
     "text": [
      "Training: 100%|█████████████████████████████████| 50/50 [00:05<00:00,  9.32it/s]\n",
      "Evaluating: 100%|███████████████████████████████| 30/30 [00:00<00:00, 45.29it/s]\n",
      "Training:   0%|                                          | 0/50 [00:00<?, ?it/s]"
     ]
    },
    {
     "name": "stdout",
     "output_type": "stream",
     "text": [
      "200.0\n"
     ]
    },
    {
     "name": "stderr",
     "output_type": "stream",
     "text": [
      "Training: 100%|█████████████████████████████████| 50/50 [00:08<00:00,  5.91it/s]\n",
      "Evaluating: 100%|██████████████████████████████| 30/30 [00:00<00:00, 136.26it/s]\n",
      "Training:  12%|████                              | 6/50 [00:00<00:01, 38.02it/s]"
     ]
    },
    {
     "name": "stdout",
     "output_type": "stream",
     "text": [
      "63.96666666666667\n"
     ]
    },
    {
     "name": "stderr",
     "output_type": "stream",
     "text": [
      "Training: 100%|█████████████████████████████████| 50/50 [00:06<00:00,  7.63it/s]\n",
      "Evaluating: 100%|███████████████████████████████| 30/30 [00:00<00:00, 45.67it/s]\n",
      "Training:   0%|                                          | 0/50 [00:00<?, ?it/s]"
     ]
    },
    {
     "name": "stdout",
     "output_type": "stream",
     "text": [
      "200.0\n"
     ]
    },
    {
     "name": "stderr",
     "output_type": "stream",
     "text": [
      "Training: 100%|█████████████████████████████████| 50/50 [00:07<00:00,  6.63it/s]\n",
      "Evaluating: 100%|██████████████████████████████| 30/30 [00:00<00:00, 870.19it/s]\n",
      "Training:   0%|                                          | 0/50 [00:00<?, ?it/s]"
     ]
    },
    {
     "name": "stdout",
     "output_type": "stream",
     "text": [
      "9.266666666666667\n"
     ]
    },
    {
     "name": "stderr",
     "output_type": "stream",
     "text": [
      "Training: 100%|█████████████████████████████████| 50/50 [00:07<00:00,  7.09it/s]\n",
      "Evaluating: 100%|███████████████████████████████| 30/30 [00:00<00:00, 45.61it/s]\n",
      "Training:   0%|                                          | 0/50 [00:00<?, ?it/s]"
     ]
    },
    {
     "name": "stdout",
     "output_type": "stream",
     "text": [
      "200.0\n"
     ]
    },
    {
     "name": "stderr",
     "output_type": "stream",
     "text": [
      "Training: 100%|█████████████████████████████████| 50/50 [00:08<00:00,  6.05it/s]\n",
      "Evaluating: 100%|███████████████████████████████| 30/30 [00:00<00:00, 45.55it/s]\n",
      "Training:   0%|                                          | 0/50 [00:00<?, ?it/s]"
     ]
    },
    {
     "name": "stdout",
     "output_type": "stream",
     "text": [
      "200.0\n"
     ]
    },
    {
     "name": "stderr",
     "output_type": "stream",
     "text": [
      "Training: 100%|█████████████████████████████████| 50/50 [00:06<00:00,  7.74it/s]\n",
      "Evaluating: 100%|██████████████████████████████| 30/30 [00:00<00:00, 730.30it/s]\n",
      "Training:   0%|                                          | 0/50 [00:00<?, ?it/s]"
     ]
    },
    {
     "name": "stdout",
     "output_type": "stream",
     "text": [
      "11.133333333333333\n"
     ]
    },
    {
     "name": "stderr",
     "output_type": "stream",
     "text": [
      "Training: 100%|█████████████████████████████████| 50/50 [00:05<00:00,  9.06it/s]\n",
      "Evaluating: 100%|███████████████████████████████| 30/30 [00:00<00:00, 56.97it/s]\n",
      "Training:   0%|                                          | 0/50 [00:00<?, ?it/s]"
     ]
    },
    {
     "name": "stdout",
     "output_type": "stream",
     "text": [
      "158.2\n"
     ]
    },
    {
     "name": "stderr",
     "output_type": "stream",
     "text": [
      "Training: 100%|█████████████████████████████████| 50/50 [00:06<00:00,  7.67it/s]\n",
      "Evaluating: 100%|███████████████████████████████| 30/30 [00:00<00:00, 84.82it/s]\n",
      "Training:   0%|                                          | 0/50 [00:00<?, ?it/s]"
     ]
    },
    {
     "name": "stdout",
     "output_type": "stream",
     "text": [
      "104.93333333333334\n"
     ]
    },
    {
     "name": "stderr",
     "output_type": "stream",
     "text": [
      "Training: 100%|█████████████████████████████████| 50/50 [00:06<00:00,  8.26it/s]\n",
      "Evaluating: 100%|███████████████████████████████| 30/30 [00:00<00:00, 88.55it/s]\n",
      "Training:   0%|                                          | 0/50 [00:00<?, ?it/s]"
     ]
    },
    {
     "name": "stdout",
     "output_type": "stream",
     "text": [
      "100.3\n"
     ]
    },
    {
     "name": "stderr",
     "output_type": "stream",
     "text": [
      "Training: 100%|█████████████████████████████████| 50/50 [00:07<00:00,  7.05it/s]\n",
      "Evaluating: 100%|███████████████████████████████| 30/30 [00:00<00:00, 72.43it/s]\n",
      "Training:   0%|                                          | 0/50 [00:00<?, ?it/s]"
     ]
    },
    {
     "name": "stdout",
     "output_type": "stream",
     "text": [
      "123.53333333333333\n"
     ]
    },
    {
     "name": "stderr",
     "output_type": "stream",
     "text": [
      "Training: 100%|█████████████████████████████████| 50/50 [00:08<00:00,  5.85it/s]\n",
      "Evaluating: 100%|███████████████████████████████| 30/30 [00:00<00:00, 45.60it/s]\n",
      "Training:   0%|                                          | 0/50 [00:00<?, ?it/s]"
     ]
    },
    {
     "name": "stdout",
     "output_type": "stream",
     "text": [
      "200.0\n"
     ]
    },
    {
     "name": "stderr",
     "output_type": "stream",
     "text": [
      "Training: 100%|█████████████████████████████████| 50/50 [00:08<00:00,  6.12it/s]\n",
      "Evaluating: 100%|███████████████████████████████| 30/30 [00:00<00:00, 45.57it/s]\n",
      "Training:   0%|                                          | 0/50 [00:00<?, ?it/s]"
     ]
    },
    {
     "name": "stdout",
     "output_type": "stream",
     "text": [
      "200.0\n"
     ]
    },
    {
     "name": "stderr",
     "output_type": "stream",
     "text": [
      "Training: 100%|█████████████████████████████████| 50/50 [00:04<00:00, 10.19it/s]\n",
      "Evaluating: 100%|██████████████████████████████| 30/30 [00:00<00:00, 150.48it/s]\n",
      "Training:   6%|██                                | 3/50 [00:00<00:02, 18.71it/s]"
     ]
    },
    {
     "name": "stdout",
     "output_type": "stream",
     "text": [
      "57.4\n"
     ]
    },
    {
     "name": "stderr",
     "output_type": "stream",
     "text": [
      "Training: 100%|█████████████████████████████████| 50/50 [00:02<00:00, 17.52it/s]\n",
      "Evaluating: 100%|██████████████████████████████| 30/30 [00:00<00:00, 169.81it/s]\n",
      "Training:   4%|█▎                                | 2/50 [00:00<00:02, 18.79it/s]"
     ]
    },
    {
     "name": "stdout",
     "output_type": "stream",
     "text": [
      "49.93333333333333\n"
     ]
    },
    {
     "name": "stderr",
     "output_type": "stream",
     "text": [
      "Training: 100%|█████████████████████████████████| 50/50 [00:01<00:00, 29.03it/s]\n",
      "Evaluating: 100%|██████████████████████████████| 30/30 [00:00<00:00, 828.72it/s]\n",
      "Training:  18%|██████                            | 9/50 [00:00<00:00, 78.56it/s]"
     ]
    },
    {
     "name": "stdout",
     "output_type": "stream",
     "text": [
      "9.633333333333333\n"
     ]
    },
    {
     "name": "stderr",
     "output_type": "stream",
     "text": [
      "Training: 100%|█████████████████████████████████| 50/50 [00:02<00:00, 22.27it/s]\n",
      "Evaluating: 100%|██████████████████████████████| 30/30 [00:00<00:00, 855.16it/s]\n",
      "Training:   6%|██                                | 3/50 [00:00<00:02, 18.22it/s]"
     ]
    },
    {
     "name": "stdout",
     "output_type": "stream",
     "text": [
      "9.3\n"
     ]
    },
    {
     "name": "stderr",
     "output_type": "stream",
     "text": [
      "Training: 100%|█████████████████████████████████| 50/50 [00:03<00:00, 14.90it/s]\n",
      "Evaluating: 100%|███████████████████████████████| 30/30 [00:00<00:00, 95.40it/s]\n",
      "Training:   4%|█▎                                | 2/50 [00:00<00:02, 17.35it/s]"
     ]
    },
    {
     "name": "stdout",
     "output_type": "stream",
     "text": [
      "91.53333333333333\n"
     ]
    },
    {
     "name": "stderr",
     "output_type": "stream",
     "text": [
      "Training: 100%|█████████████████████████████████| 50/50 [00:03<00:00, 13.51it/s]\n",
      "Evaluating: 100%|███████████████████████████████| 30/30 [00:00<00:00, 83.47it/s]\n",
      "Training:   4%|█▎                                | 2/50 [00:00<00:02, 18.87it/s]"
     ]
    },
    {
     "name": "stdout",
     "output_type": "stream",
     "text": [
      "105.43333333333334\n"
     ]
    },
    {
     "name": "stderr",
     "output_type": "stream",
     "text": [
      "Training: 100%|█████████████████████████████████| 50/50 [00:02<00:00, 17.68it/s]\n",
      "Evaluating: 100%|██████████████████████████████| 30/30 [00:00<00:00, 307.89it/s]\n",
      "Training:  10%|███▍                              | 5/50 [00:00<00:00, 48.81it/s]"
     ]
    },
    {
     "name": "stdout",
     "output_type": "stream",
     "text": [
      "26.533333333333335\n"
     ]
    },
    {
     "name": "stderr",
     "output_type": "stream",
     "text": [
      "Training: 100%|█████████████████████████████████| 50/50 [00:01<00:00, 47.51it/s]\n",
      "Evaluating: 100%|██████████████████████████████| 30/30 [00:00<00:00, 851.71it/s]\n",
      "Training:  10%|███▍                              | 5/50 [00:00<00:01, 31.21it/s]"
     ]
    },
    {
     "name": "stdout",
     "output_type": "stream",
     "text": [
      "9.233333333333333\n"
     ]
    },
    {
     "name": "stderr",
     "output_type": "stream",
     "text": [
      "Training: 100%|█████████████████████████████████| 50/50 [00:02<00:00, 16.84it/s]\n",
      "Evaluating: 100%|███████████████████████████████| 30/30 [00:00<00:00, 78.20it/s]\n",
      "Training:   2%|▋                                 | 1/50 [00:00<00:05,  9.17it/s]"
     ]
    },
    {
     "name": "stdout",
     "output_type": "stream",
     "text": [
      "113.7\n"
     ]
    },
    {
     "name": "stderr",
     "output_type": "stream",
     "text": [
      "Training: 100%|█████████████████████████████████| 50/50 [00:03<00:00, 13.07it/s]\n",
      "Evaluating: 100%|██████████████████████████████| 30/30 [00:00<00:00, 134.87it/s]\n",
      "Training:   6%|██                                | 3/50 [00:00<00:02, 19.19it/s]"
     ]
    },
    {
     "name": "stdout",
     "output_type": "stream",
     "text": [
      "63.06666666666667\n"
     ]
    },
    {
     "name": "stderr",
     "output_type": "stream",
     "text": [
      "Training: 100%|█████████████████████████████████| 50/50 [00:02<00:00, 17.06it/s]\n",
      "Evaluating: 100%|███████████████████████████████| 30/30 [00:00<00:00, 89.57it/s]\n",
      "Training:   4%|█▎                                | 2/50 [00:00<00:03, 12.22it/s]"
     ]
    },
    {
     "name": "stdout",
     "output_type": "stream",
     "text": [
      "97.1\n"
     ]
    },
    {
     "name": "stderr",
     "output_type": "stream",
     "text": [
      "Training: 100%|█████████████████████████████████| 50/50 [00:02<00:00, 16.98it/s]\n",
      "Evaluating: 100%|██████████████████████████████| 30/30 [00:00<00:00, 124.88it/s]\n",
      "Training:   6%|██                                | 3/50 [00:00<00:02, 18.12it/s]"
     ]
    },
    {
     "name": "stdout",
     "output_type": "stream",
     "text": [
      "68.4\n"
     ]
    },
    {
     "name": "stderr",
     "output_type": "stream",
     "text": [
      "Training: 100%|█████████████████████████████████| 50/50 [00:04<00:00, 11.64it/s]\n",
      "Evaluating: 100%|██████████████████████████████| 30/30 [00:00<00:00, 130.69it/s]\n",
      "Training:   4%|█▎                                | 2/50 [00:00<00:03, 14.63it/s]"
     ]
    },
    {
     "name": "stdout",
     "output_type": "stream",
     "text": [
      "65.46666666666667\n"
     ]
    },
    {
     "name": "stderr",
     "output_type": "stream",
     "text": [
      "Training: 100%|█████████████████████████████████| 50/50 [00:02<00:00, 20.81it/s]\n",
      "Evaluating: 100%|██████████████████████████████| 30/30 [00:00<00:00, 134.45it/s]\n",
      "Training:   2%|▋                                 | 1/50 [00:00<00:06,  7.51it/s]"
     ]
    },
    {
     "name": "stdout",
     "output_type": "stream",
     "text": [
      "62.266666666666666\n"
     ]
    },
    {
     "name": "stderr",
     "output_type": "stream",
     "text": [
      "Training: 100%|█████████████████████████████████| 50/50 [00:04<00:00, 12.06it/s]\n",
      "Evaluating: 100%|██████████████████████████████| 30/30 [00:00<00:00, 180.68it/s]\n",
      "Training:   6%|██                                | 3/50 [00:00<00:02, 15.70it/s]"
     ]
    },
    {
     "name": "stdout",
     "output_type": "stream",
     "text": [
      "47.0\n"
     ]
    },
    {
     "name": "stderr",
     "output_type": "stream",
     "text": [
      "Training: 100%|█████████████████████████████████| 50/50 [00:02<00:00, 19.77it/s]\n",
      "Evaluating: 100%|██████████████████████████████| 30/30 [00:00<00:00, 180.98it/s]\n",
      "Training:   0%|                                          | 0/50 [00:00<?, ?it/s]"
     ]
    },
    {
     "name": "stdout",
     "output_type": "stream",
     "text": [
      "46.8\n"
     ]
    },
    {
     "name": "stderr",
     "output_type": "stream",
     "text": [
      "Training: 100%|█████████████████████████████████| 50/50 [00:03<00:00, 13.54it/s]\n",
      "Evaluating: 100%|██████████████████████████████| 30/30 [00:00<00:00, 101.07it/s]\n",
      "Training:   2%|▋                                 | 1/50 [00:00<00:07,  6.45it/s]"
     ]
    },
    {
     "name": "stdout",
     "output_type": "stream",
     "text": [
      "87.3\n"
     ]
    },
    {
     "name": "stderr",
     "output_type": "stream",
     "text": [
      "Training: 100%|█████████████████████████████████| 50/50 [00:06<00:00,  8.31it/s]\n",
      "Evaluating: 100%|██████████████████████████████| 30/30 [00:00<00:00, 327.15it/s]\n",
      "Training:  10%|███▍                              | 5/50 [00:00<00:01, 40.61it/s]"
     ]
    },
    {
     "name": "stdout",
     "output_type": "stream",
     "text": [
      "25.733333333333334\n"
     ]
    },
    {
     "name": "stderr",
     "output_type": "stream",
     "text": [
      "Training: 100%|█████████████████████████████████| 50/50 [00:04<00:00, 12.47it/s]\n",
      "Evaluating: 100%|███████████████████████████████| 30/30 [00:00<00:00, 45.24it/s]\n",
      "Training:   0%|                                          | 0/50 [00:00<?, ?it/s]"
     ]
    },
    {
     "name": "stdout",
     "output_type": "stream",
     "text": [
      "200.0\n"
     ]
    },
    {
     "name": "stderr",
     "output_type": "stream",
     "text": [
      "Training: 100%|█████████████████████████████████| 50/50 [00:02<00:00, 16.99it/s]\n",
      "Evaluating: 100%|██████████████████████████████| 30/30 [00:00<00:00, 305.34it/s]\n",
      "Training:   0%|                                          | 0/50 [00:00<?, ?it/s]"
     ]
    },
    {
     "name": "stdout",
     "output_type": "stream",
     "text": [
      "27.6\n"
     ]
    },
    {
     "name": "stderr",
     "output_type": "stream",
     "text": [
      "Training: 100%|█████████████████████████████████| 50/50 [00:03<00:00, 16.26it/s]\n",
      "Evaluating: 100%|██████████████████████████████| 30/30 [00:00<00:00, 167.21it/s]\n",
      "Training:   8%|██▋                               | 4/50 [00:00<00:01, 38.90it/s]"
     ]
    },
    {
     "name": "stdout",
     "output_type": "stream",
     "text": [
      "50.833333333333336\n"
     ]
    },
    {
     "name": "stderr",
     "output_type": "stream",
     "text": [
      "Training: 100%|█████████████████████████████████| 50/50 [00:02<00:00, 20.76it/s]\n",
      "Evaluating: 100%|███████████████████████████████| 30/30 [00:00<00:00, 94.29it/s]\n",
      "Training:   0%|                                          | 0/50 [00:00<?, ?it/s]"
     ]
    },
    {
     "name": "stdout",
     "output_type": "stream",
     "text": [
      "93.1\n"
     ]
    },
    {
     "name": "stderr",
     "output_type": "stream",
     "text": [
      "Training: 100%|█████████████████████████████████| 50/50 [00:01<00:00, 32.79it/s]\n",
      "Evaluating: 100%|██████████████████████████████| 30/30 [00:00<00:00, 833.46it/s]\n",
      "Training:  14%|████▊                             | 7/50 [00:00<00:00, 66.72it/s]"
     ]
    },
    {
     "name": "stdout",
     "output_type": "stream",
     "text": [
      "9.633333333333333\n"
     ]
    },
    {
     "name": "stderr",
     "output_type": "stream",
     "text": [
      "Training: 100%|█████████████████████████████████| 50/50 [00:00<00:00, 73.20it/s]\n",
      "Evaluating: 100%|██████████████████████████████| 30/30 [00:00<00:00, 817.44it/s]\n",
      "Training:  16%|█████▍                            | 8/50 [00:00<00:00, 77.02it/s]"
     ]
    },
    {
     "name": "stdout",
     "output_type": "stream",
     "text": [
      "9.2\n"
     ]
    },
    {
     "name": "stderr",
     "output_type": "stream",
     "text": [
      "Training: 100%|█████████████████████████████████| 50/50 [00:00<00:00, 68.90it/s]\n",
      "Evaluating: 100%|██████████████████████████████| 30/30 [00:00<00:00, 852.11it/s]\n",
      "Training:   6%|██                                | 3/50 [00:00<00:02, 22.95it/s]"
     ]
    },
    {
     "name": "stdout",
     "output_type": "stream",
     "text": [
      "9.2\n"
     ]
    },
    {
     "name": "stderr",
     "output_type": "stream",
     "text": [
      "Training: 100%|█████████████████████████████████| 50/50 [00:01<00:00, 39.00it/s]\n",
      "Evaluating: 100%|██████████████████████████████| 30/30 [00:00<00:00, 314.80it/s]\n",
      "Training:  10%|███▍                              | 5/50 [00:00<00:01, 39.37it/s]"
     ]
    },
    {
     "name": "stdout",
     "output_type": "stream",
     "text": [
      "26.3\n"
     ]
    },
    {
     "name": "stderr",
     "output_type": "stream",
     "text": [
      "Training: 100%|█████████████████████████████████| 50/50 [00:01<00:00, 35.54it/s]\n",
      "Evaluating: 100%|██████████████████████████████| 30/30 [00:00<00:00, 284.00it/s]\n",
      "Training:   8%|██▋                               | 4/50 [00:00<00:01, 33.85it/s]"
     ]
    },
    {
     "name": "stdout",
     "output_type": "stream",
     "text": [
      "29.566666666666666\n"
     ]
    },
    {
     "name": "stderr",
     "output_type": "stream",
     "text": [
      "Training: 100%|█████████████████████████████████| 50/50 [00:01<00:00, 35.88it/s]\n",
      "Evaluating: 100%|██████████████████████████████| 30/30 [00:00<00:00, 307.95it/s]\n",
      "Training:   8%|██▋                               | 4/50 [00:00<00:01, 39.63it/s]"
     ]
    },
    {
     "name": "stdout",
     "output_type": "stream",
     "text": [
      "28.233333333333334\n"
     ]
    },
    {
     "name": "stderr",
     "output_type": "stream",
     "text": [
      "Training: 100%|█████████████████████████████████| 50/50 [00:06<00:00,  7.58it/s]\n",
      "Evaluating: 100%|███████████████████████████████| 30/30 [00:00<00:00, 46.03it/s]\n",
      "Training:   4%|█▎                                | 2/50 [00:00<00:04, 10.83it/s]"
     ]
    },
    {
     "name": "stdout",
     "output_type": "stream",
     "text": [
      "200.0\n"
     ]
    },
    {
     "name": "stderr",
     "output_type": "stream",
     "text": [
      "Training: 100%|█████████████████████████████████| 50/50 [00:06<00:00,  8.06it/s]\n",
      "Evaluating: 100%|███████████████████████████████| 30/30 [00:00<00:00, 45.81it/s]\n",
      "Training:   0%|                                          | 0/50 [00:00<?, ?it/s]"
     ]
    },
    {
     "name": "stdout",
     "output_type": "stream",
     "text": [
      "200.0\n"
     ]
    },
    {
     "name": "stderr",
     "output_type": "stream",
     "text": [
      "Training: 100%|█████████████████████████████████| 50/50 [00:07<00:00,  6.85it/s]\n",
      "Evaluating: 100%|███████████████████████████████| 30/30 [00:00<00:00, 45.61it/s]\n",
      "Training:   0%|                                          | 0/50 [00:00<?, ?it/s]"
     ]
    },
    {
     "name": "stdout",
     "output_type": "stream",
     "text": [
      "200.0\n"
     ]
    },
    {
     "name": "stderr",
     "output_type": "stream",
     "text": [
      "Training: 100%|█████████████████████████████████| 50/50 [00:07<00:00,  6.40it/s]\n",
      "Evaluating: 100%|███████████████████████████████| 30/30 [00:00<00:00, 83.87it/s]\n",
      "Training:   2%|▋                                 | 1/50 [00:00<00:06,  7.22it/s]"
     ]
    },
    {
     "name": "stdout",
     "output_type": "stream",
     "text": [
      "107.86666666666666\n"
     ]
    },
    {
     "name": "stderr",
     "output_type": "stream",
     "text": [
      "Training: 100%|█████████████████████████████████| 50/50 [00:08<00:00,  5.83it/s]\n",
      "Evaluating: 100%|███████████████████████████████| 30/30 [00:00<00:00, 45.70it/s]\n",
      "Training:   0%|                                          | 0/50 [00:00<?, ?it/s]"
     ]
    },
    {
     "name": "stdout",
     "output_type": "stream",
     "text": [
      "200.0\n"
     ]
    },
    {
     "name": "stderr",
     "output_type": "stream",
     "text": [
      "Training: 100%|█████████████████████████████████| 50/50 [00:06<00:00,  8.10it/s]\n",
      "Evaluating: 100%|██████████████████████████████| 30/30 [00:00<00:00, 109.40it/s]\n",
      "Training:   2%|▋                                 | 1/50 [00:00<00:05,  8.36it/s]"
     ]
    },
    {
     "name": "stdout",
     "output_type": "stream",
     "text": [
      "81.86666666666666\n"
     ]
    },
    {
     "name": "stderr",
     "output_type": "stream",
     "text": [
      "Training: 100%|█████████████████████████████████| 50/50 [00:03<00:00, 15.48it/s]\n",
      "Evaluating: 100%|██████████████████████████████| 30/30 [00:00<00:00, 157.89it/s]\n",
      "Training:   4%|█▎                                | 2/50 [00:00<00:02, 18.17it/s]"
     ]
    },
    {
     "name": "stdout",
     "output_type": "stream",
     "text": [
      "55.733333333333334\n"
     ]
    },
    {
     "name": "stderr",
     "output_type": "stream",
     "text": [
      "Training: 100%|█████████████████████████████████| 50/50 [00:03<00:00, 16.60it/s]\n",
      "Evaluating: 100%|██████████████████████████████| 30/30 [00:00<00:00, 117.55it/s]\n",
      "Training:   4%|█▎                                | 2/50 [00:00<00:03, 14.19it/s]"
     ]
    },
    {
     "name": "stdout",
     "output_type": "stream",
     "text": [
      "70.36666666666666\n"
     ]
    },
    {
     "name": "stderr",
     "output_type": "stream",
     "text": [
      "Training: 100%|█████████████████████████████████| 50/50 [00:02<00:00, 17.02it/s]\n",
      "Evaluating: 100%|███████████████████████████████| 30/30 [00:00<00:00, 98.31it/s]\n",
      "Training:   2%|▋                                 | 1/50 [00:00<00:05,  9.09it/s]"
     ]
    },
    {
     "name": "stdout",
     "output_type": "stream",
     "text": [
      "91.73333333333333\n"
     ]
    },
    {
     "name": "stderr",
     "output_type": "stream",
     "text": [
      "Training: 100%|█████████████████████████████████| 50/50 [00:03<00:00, 13.76it/s]\n",
      "Evaluating: 100%|██████████████████████████████| 30/30 [00:00<00:00, 121.95it/s]\n",
      "Training:   2%|▋                                 | 1/50 [00:00<00:05,  9.63it/s]"
     ]
    },
    {
     "name": "stdout",
     "output_type": "stream",
     "text": [
      "73.13333333333334\n"
     ]
    },
    {
     "name": "stderr",
     "output_type": "stream",
     "text": [
      "Training: 100%|█████████████████████████████████| 50/50 [00:05<00:00,  8.59it/s]\n",
      "Evaluating: 100%|███████████████████████████████| 30/30 [00:00<00:00, 64.68it/s]\n",
      "Training:   0%|                                          | 0/50 [00:00<?, ?it/s]"
     ]
    },
    {
     "name": "stdout",
     "output_type": "stream",
     "text": [
      "133.33333333333334\n"
     ]
    },
    {
     "name": "stderr",
     "output_type": "stream",
     "text": [
      "Training: 100%|█████████████████████████████████| 50/50 [00:05<00:00,  9.96it/s]\n",
      "Evaluating: 100%|██████████████████████████████| 30/30 [00:00<00:00, 222.95it/s]\n",
      "Training:   4%|█▎                                | 2/50 [00:00<00:03, 12.25it/s]"
     ]
    },
    {
     "name": "stdout",
     "output_type": "stream",
     "text": [
      "38.766666666666666\n"
     ]
    },
    {
     "name": "stderr",
     "output_type": "stream",
     "text": [
      "Training: 100%|█████████████████████████████████| 50/50 [00:05<00:00,  8.62it/s]\n",
      "Evaluating: 100%|███████████████████████████████| 30/30 [00:00<00:00, 46.12it/s]\n",
      "Training:   2%|▋                                 | 1/50 [00:00<00:06,  7.82it/s]"
     ]
    },
    {
     "name": "stdout",
     "output_type": "stream",
     "text": [
      "198.5\n"
     ]
    },
    {
     "name": "stderr",
     "output_type": "stream",
     "text": [
      "Training: 100%|█████████████████████████████████| 50/50 [00:06<00:00,  8.09it/s]\n",
      "Evaluating: 100%|███████████████████████████████| 30/30 [00:00<00:00, 67.32it/s]\n",
      "Training:   2%|▋                                 | 1/50 [00:00<00:07,  6.93it/s]"
     ]
    },
    {
     "name": "stdout",
     "output_type": "stream",
     "text": [
      "134.63333333333333\n"
     ]
    },
    {
     "name": "stderr",
     "output_type": "stream",
     "text": [
      "Training: 100%|█████████████████████████████████| 50/50 [00:04<00:00, 11.91it/s]\n",
      "Evaluating: 100%|███████████████████████████████| 30/30 [00:00<00:00, 77.67it/s]\n",
      "Training:   2%|▋                                 | 1/50 [00:00<00:05,  9.47it/s]"
     ]
    },
    {
     "name": "stdout",
     "output_type": "stream",
     "text": [
      "115.16666666666667\n"
     ]
    },
    {
     "name": "stderr",
     "output_type": "stream",
     "text": [
      "Training: 100%|█████████████████████████████████| 50/50 [00:05<00:00,  8.59it/s]\n",
      "Evaluating: 100%|██████████████████████████████| 30/30 [00:00<00:00, 519.83it/s]\n",
      "Training:   8%|██▋                               | 4/50 [00:00<00:01, 33.15it/s]"
     ]
    },
    {
     "name": "stdout",
     "output_type": "stream",
     "text": [
      "15.633333333333333\n"
     ]
    },
    {
     "name": "stderr",
     "output_type": "stream",
     "text": [
      "Training: 100%|█████████████████████████████████| 50/50 [00:07<00:00,  6.96it/s]\n",
      "Evaluating: 100%|███████████████████████████████| 30/30 [00:00<00:00, 48.89it/s]\n",
      "Training:   4%|█▎                                | 2/50 [00:00<00:04, 11.95it/s]"
     ]
    },
    {
     "name": "stdout",
     "output_type": "stream",
     "text": [
      "185.26666666666668\n"
     ]
    },
    {
     "name": "stderr",
     "output_type": "stream",
     "text": [
      "Training: 100%|█████████████████████████████████| 50/50 [00:04<00:00, 10.63it/s]\n",
      "Evaluating: 100%|███████████████████████████████| 30/30 [00:00<00:00, 91.52it/s]\n",
      "Training:   4%|█▎                                | 2/50 [00:00<00:04, 11.99it/s]"
     ]
    },
    {
     "name": "stdout",
     "output_type": "stream",
     "text": [
      "96.36666666666666\n"
     ]
    },
    {
     "name": "stderr",
     "output_type": "stream",
     "text": [
      "Training: 100%|█████████████████████████████████| 50/50 [00:04<00:00, 11.67it/s]\n",
      "Evaluating: 100%|██████████████████████████████| 30/30 [00:00<00:00, 132.98it/s]\n",
      "Training:   4%|█▎                                | 2/50 [00:00<00:03, 13.31it/s]"
     ]
    },
    {
     "name": "stdout",
     "output_type": "stream",
     "text": [
      "65.56666666666666\n"
     ]
    },
    {
     "name": "stderr",
     "output_type": "stream",
     "text": [
      "Training: 100%|█████████████████████████████████| 50/50 [00:04<00:00, 10.57it/s]\n",
      "Evaluating: 100%|███████████████████████████████| 30/30 [00:00<00:00, 52.69it/s]\n",
      "Training:   0%|                                          | 0/50 [00:00<?, ?it/s]"
     ]
    },
    {
     "name": "stdout",
     "output_type": "stream",
     "text": [
      "171.56666666666666\n"
     ]
    },
    {
     "name": "stderr",
     "output_type": "stream",
     "text": [
      "Training: 100%|█████████████████████████████████| 50/50 [00:04<00:00, 11.69it/s]\n",
      "Evaluating: 100%|███████████████████████████████| 30/30 [00:00<00:00, 60.06it/s]\n",
      "Training:   4%|█▎                                | 2/50 [00:00<00:03, 12.74it/s]"
     ]
    },
    {
     "name": "stdout",
     "output_type": "stream",
     "text": [
      "150.86666666666667\n"
     ]
    },
    {
     "name": "stderr",
     "output_type": "stream",
     "text": [
      "Training: 100%|█████████████████████████████████| 50/50 [00:05<00:00,  8.58it/s]\n",
      "Evaluating: 100%|███████████████████████████████| 30/30 [00:00<00:00, 92.19it/s]\n",
      "Training:   2%|▋                                 | 1/50 [00:00<00:06,  7.74it/s]"
     ]
    },
    {
     "name": "stdout",
     "output_type": "stream",
     "text": [
      "96.16666666666667\n"
     ]
    },
    {
     "name": "stderr",
     "output_type": "stream",
     "text": [
      "Training: 100%|█████████████████████████████████| 50/50 [00:05<00:00,  8.42it/s]\n",
      "Evaluating: 100%|███████████████████████████████| 30/30 [00:00<00:00, 59.52it/s]\n",
      "Training:   0%|                                          | 0/50 [00:00<?, ?it/s]"
     ]
    },
    {
     "name": "stdout",
     "output_type": "stream",
     "text": [
      "151.0\n"
     ]
    },
    {
     "name": "stderr",
     "output_type": "stream",
     "text": [
      "Training: 100%|█████████████████████████████████| 50/50 [00:06<00:00,  7.58it/s]\n",
      "Evaluating: 100%|██████████████████████████████| 30/30 [00:00<00:00, 149.23it/s]\n",
      "Training:   2%|▋                                 | 1/50 [00:00<00:07,  6.52it/s]"
     ]
    },
    {
     "name": "stdout",
     "output_type": "stream",
     "text": [
      "54.4\n"
     ]
    },
    {
     "name": "stderr",
     "output_type": "stream",
     "text": [
      "Training: 100%|█████████████████████████████████| 50/50 [00:09<00:00,  5.56it/s]\n",
      "Evaluating: 100%|███████████████████████████████| 30/30 [00:00<00:00, 45.46it/s]\n",
      "Training:   2%|▋                                 | 1/50 [00:00<00:09,  5.26it/s]"
     ]
    },
    {
     "name": "stdout",
     "output_type": "stream",
     "text": [
      "200.0\n"
     ]
    },
    {
     "name": "stderr",
     "output_type": "stream",
     "text": [
      "Training: 100%|█████████████████████████████████| 50/50 [00:09<00:00,  5.32it/s]\n",
      "Evaluating: 100%|███████████████████████████████| 30/30 [00:00<00:00, 44.78it/s]\n",
      "Training:   0%|                                          | 0/50 [00:00<?, ?it/s]"
     ]
    },
    {
     "name": "stdout",
     "output_type": "stream",
     "text": [
      "200.0\n"
     ]
    },
    {
     "name": "stderr",
     "output_type": "stream",
     "text": [
      "Training: 100%|█████████████████████████████████| 50/50 [00:10<00:00,  4.93it/s]\n",
      "Evaluating: 100%|███████████████████████████████| 30/30 [00:00<00:00, 45.00it/s]\n",
      "Training:   0%|                                          | 0/50 [00:00<?, ?it/s]"
     ]
    },
    {
     "name": "stdout",
     "output_type": "stream",
     "text": [
      "200.0\n"
     ]
    },
    {
     "name": "stderr",
     "output_type": "stream",
     "text": [
      "Training: 100%|█████████████████████████████████| 50/50 [00:07<00:00,  6.85it/s]\n",
      "Evaluating: 100%|██████████████████████████████| 30/30 [00:00<00:00, 443.13it/s]\n",
      "Training:   0%|                                          | 0/50 [00:00<?, ?it/s]"
     ]
    },
    {
     "name": "stdout",
     "output_type": "stream",
     "text": [
      "17.833333333333332\n"
     ]
    },
    {
     "name": "stderr",
     "output_type": "stream",
     "text": [
      "Training: 100%|█████████████████████████████████| 50/50 [00:06<00:00,  7.39it/s]\n",
      "Evaluating: 100%|███████████████████████████████| 30/30 [00:00<00:00, 45.29it/s]\n",
      "Training:   0%|                                          | 0/50 [00:00<?, ?it/s]"
     ]
    },
    {
     "name": "stdout",
     "output_type": "stream",
     "text": [
      "200.0\n"
     ]
    },
    {
     "name": "stderr",
     "output_type": "stream",
     "text": [
      "Training: 100%|█████████████████████████████████| 50/50 [00:07<00:00,  6.59it/s]\n",
      "Evaluating: 100%|███████████████████████████████| 30/30 [00:00<00:00, 45.35it/s]\n",
      "Training:   0%|                                          | 0/50 [00:00<?, ?it/s]"
     ]
    },
    {
     "name": "stdout",
     "output_type": "stream",
     "text": [
      "200.0\n"
     ]
    },
    {
     "name": "stderr",
     "output_type": "stream",
     "text": [
      "Training: 100%|█████████████████████████████████| 50/50 [00:08<00:00,  5.64it/s]\n",
      "Evaluating: 100%|███████████████████████████████| 30/30 [00:00<00:00, 45.32it/s]\n",
      "Training:   0%|                                          | 0/50 [00:00<?, ?it/s]"
     ]
    },
    {
     "name": "stdout",
     "output_type": "stream",
     "text": [
      "200.0\n"
     ]
    },
    {
     "name": "stderr",
     "output_type": "stream",
     "text": [
      "Training: 100%|█████████████████████████████████| 50/50 [00:09<00:00,  5.30it/s]\n",
      "Evaluating: 100%|███████████████████████████████| 30/30 [00:00<00:00, 45.23it/s]\n",
      "Training:   0%|                                          | 0/50 [00:00<?, ?it/s]"
     ]
    },
    {
     "name": "stdout",
     "output_type": "stream",
     "text": [
      "200.0\n"
     ]
    },
    {
     "name": "stderr",
     "output_type": "stream",
     "text": [
      "Training: 100%|█████████████████████████████████| 50/50 [00:09<00:00,  5.53it/s]\n",
      "Evaluating: 100%|███████████████████████████████| 30/30 [00:00<00:00, 45.37it/s]\n",
      "Training:   0%|                                          | 0/50 [00:00<?, ?it/s]"
     ]
    },
    {
     "name": "stdout",
     "output_type": "stream",
     "text": [
      "200.0\n"
     ]
    },
    {
     "name": "stderr",
     "output_type": "stream",
     "text": [
      "Training: 100%|█████████████████████████████████| 50/50 [00:09<00:00,  5.44it/s]\n",
      "Evaluating: 100%|███████████████████████████████| 30/30 [00:00<00:00, 45.60it/s]\n",
      "Training:   0%|                                          | 0/50 [00:00<?, ?it/s]"
     ]
    },
    {
     "name": "stdout",
     "output_type": "stream",
     "text": [
      "200.0\n"
     ]
    },
    {
     "name": "stderr",
     "output_type": "stream",
     "text": [
      "Training: 100%|█████████████████████████████████| 50/50 [00:08<00:00,  5.57it/s]\n",
      "Evaluating: 100%|███████████████████████████████| 30/30 [00:00<00:00, 45.92it/s]\n",
      "Training:   0%|                                          | 0/50 [00:00<?, ?it/s]"
     ]
    },
    {
     "name": "stdout",
     "output_type": "stream",
     "text": [
      "200.0\n"
     ]
    },
    {
     "name": "stderr",
     "output_type": "stream",
     "text": [
      "Training: 100%|█████████████████████████████████| 50/50 [00:07<00:00,  6.32it/s]\n",
      "Evaluating: 100%|███████████████████████████████| 30/30 [00:00<00:00, 45.84it/s]\n",
      "Training:   0%|                                          | 0/50 [00:00<?, ?it/s]"
     ]
    },
    {
     "name": "stdout",
     "output_type": "stream",
     "text": [
      "200.0\n"
     ]
    },
    {
     "name": "stderr",
     "output_type": "stream",
     "text": [
      "Training: 100%|█████████████████████████████████| 50/50 [00:08<00:00,  5.82it/s]\n",
      "Evaluating: 100%|███████████████████████████████| 30/30 [00:00<00:00, 89.83it/s]\n",
      "Training:   0%|                                          | 0/50 [00:00<?, ?it/s]"
     ]
    },
    {
     "name": "stdout",
     "output_type": "stream",
     "text": [
      "100.23333333333333\n"
     ]
    },
    {
     "name": "stderr",
     "output_type": "stream",
     "text": [
      "Training: 100%|█████████████████████████████████| 50/50 [00:08<00:00,  5.96it/s]\n",
      "Evaluating: 100%|███████████████████████████████| 30/30 [00:00<00:00, 46.05it/s]\n",
      "Training:   0%|                                          | 0/50 [00:00<?, ?it/s]"
     ]
    },
    {
     "name": "stdout",
     "output_type": "stream",
     "text": [
      "200.0\n"
     ]
    },
    {
     "name": "stderr",
     "output_type": "stream",
     "text": [
      "Training: 100%|█████████████████████████████████| 50/50 [00:08<00:00,  5.69it/s]\n",
      "Evaluating: 100%|███████████████████████████████| 30/30 [00:00<00:00, 52.32it/s]\n",
      "Training:   0%|                                          | 0/50 [00:00<?, ?it/s]"
     ]
    },
    {
     "name": "stdout",
     "output_type": "stream",
     "text": [
      "175.06666666666666\n"
     ]
    },
    {
     "name": "stderr",
     "output_type": "stream",
     "text": [
      "Training: 100%|█████████████████████████████████| 50/50 [00:08<00:00,  5.94it/s]\n",
      "Evaluating: 100%|██████████████████████████████| 30/30 [00:00<00:00, 157.72it/s]\n",
      "Training:   4%|█▎                                | 2/50 [00:00<00:02, 18.19it/s]"
     ]
    },
    {
     "name": "stdout",
     "output_type": "stream",
     "text": [
      "55.833333333333336\n"
     ]
    },
    {
     "name": "stderr",
     "output_type": "stream",
     "text": [
      "Training: 100%|█████████████████████████████████| 50/50 [00:04<00:00, 11.35it/s]\n",
      "Evaluating: 100%|██████████████████████████████| 30/30 [00:00<00:00, 217.43it/s]\n",
      "Training:   6%|██                                | 3/50 [00:00<00:01, 26.86it/s]"
     ]
    },
    {
     "name": "stdout",
     "output_type": "stream",
     "text": [
      "40.36666666666667\n"
     ]
    },
    {
     "name": "stderr",
     "output_type": "stream",
     "text": [
      "Training: 100%|█████████████████████████████████| 50/50 [00:03<00:00, 13.10it/s]\n",
      "Evaluating: 100%|██████████████████████████████| 30/30 [00:00<00:00, 179.21it/s]\n",
      "Training:   4%|█▎                                | 2/50 [00:00<00:02, 19.55it/s]"
     ]
    },
    {
     "name": "stdout",
     "output_type": "stream",
     "text": [
      "48.766666666666666\n"
     ]
    },
    {
     "name": "stderr",
     "output_type": "stream",
     "text": [
      "Training: 100%|█████████████████████████████████| 50/50 [00:02<00:00, 24.40it/s]\n",
      "Evaluating: 100%|██████████████████████████████| 30/30 [00:00<00:00, 561.96it/s]\n",
      "Training:   4%|█▎                                | 2/50 [00:00<00:02, 19.08it/s]"
     ]
    },
    {
     "name": "stdout",
     "output_type": "stream",
     "text": [
      "15.066666666666666\n"
     ]
    },
    {
     "name": "stderr",
     "output_type": "stream",
     "text": [
      "Training: 100%|█████████████████████████████████| 50/50 [00:02<00:00, 21.30it/s]\n",
      "Evaluating: 100%|██████████████████████████████| 30/30 [00:00<00:00, 192.53it/s]\n",
      "Training:   6%|██                                | 3/50 [00:00<00:02, 22.02it/s]"
     ]
    },
    {
     "name": "stdout",
     "output_type": "stream",
     "text": [
      "45.36666666666667\n"
     ]
    },
    {
     "name": "stderr",
     "output_type": "stream",
     "text": [
      "Training: 100%|█████████████████████████████████| 50/50 [00:02<00:00, 23.21it/s]\n",
      "Evaluating: 100%|██████████████████████████████| 30/30 [00:00<00:00, 174.32it/s]\n",
      "Training:   6%|██                                | 3/50 [00:00<00:02, 21.26it/s]"
     ]
    },
    {
     "name": "stdout",
     "output_type": "stream",
     "text": [
      "50.1\n"
     ]
    },
    {
     "name": "stderr",
     "output_type": "stream",
     "text": [
      "Training: 100%|█████████████████████████████████| 50/50 [00:01<00:00, 28.42it/s]\n",
      "Evaluating: 100%|██████████████████████████████| 30/30 [00:00<00:00, 759.95it/s]\n",
      "Training:  20%|██████▌                          | 10/50 [00:00<00:00, 94.36it/s]"
     ]
    },
    {
     "name": "stdout",
     "output_type": "stream",
     "text": [
      "11.233333333333333\n"
     ]
    },
    {
     "name": "stderr",
     "output_type": "stream",
     "text": [
      "Training: 100%|█████████████████████████████████| 50/50 [00:02<00:00, 24.16it/s]\n",
      "Evaluating: 100%|██████████████████████████████| 30/30 [00:00<00:00, 849.81it/s]\n",
      "Training:   6%|██                                | 3/50 [00:00<00:01, 26.43it/s]"
     ]
    },
    {
     "name": "stdout",
     "output_type": "stream",
     "text": [
      "9.933333333333334\n"
     ]
    },
    {
     "name": "stderr",
     "output_type": "stream",
     "text": [
      "Training: 100%|█████████████████████████████████| 50/50 [00:05<00:00,  9.31it/s]\n",
      "Evaluating: 100%|███████████████████████████████| 30/30 [00:00<00:00, 47.46it/s]\n",
      "Training:   2%|▋                                 | 1/50 [00:00<00:09,  5.07it/s]"
     ]
    },
    {
     "name": "stdout",
     "output_type": "stream",
     "text": [
      "193.8\n"
     ]
    },
    {
     "name": "stderr",
     "output_type": "stream",
     "text": [
      "Training: 100%|█████████████████████████████████| 50/50 [00:08<00:00,  5.73it/s]\n",
      "Evaluating: 100%|███████████████████████████████| 30/30 [00:00<00:00, 75.07it/s]\n",
      "Training:   0%|                                          | 0/50 [00:00<?, ?it/s]"
     ]
    },
    {
     "name": "stdout",
     "output_type": "stream",
     "text": [
      "120.86666666666666\n"
     ]
    },
    {
     "name": "stderr",
     "output_type": "stream",
     "text": [
      "Training: 100%|█████████████████████████████████| 50/50 [00:04<00:00, 11.66it/s]\n",
      "Evaluating: 100%|██████████████████████████████| 30/30 [00:00<00:00, 194.70it/s]\n",
      "Training:   4%|█▎                                | 2/50 [00:00<00:02, 18.47it/s]"
     ]
    },
    {
     "name": "stdout",
     "output_type": "stream",
     "text": [
      "44.4\n"
     ]
    },
    {
     "name": "stderr",
     "output_type": "stream",
     "text": [
      "Training: 100%|█████████████████████████████████| 50/50 [00:02<00:00, 23.45it/s]\n",
      "Evaluating: 100%|██████████████████████████████| 30/30 [00:00<00:00, 570.22it/s]\n",
      "Training:   0%|                                          | 0/50 [00:00<?, ?it/s]"
     ]
    },
    {
     "name": "stdout",
     "output_type": "stream",
     "text": [
      "14.933333333333334\n"
     ]
    },
    {
     "name": "stderr",
     "output_type": "stream",
     "text": [
      "Training: 100%|█████████████████████████████████| 50/50 [00:03<00:00, 14.35it/s]\n",
      "Evaluating: 100%|███████████████████████████████| 30/30 [00:00<00:00, 75.51it/s]\n",
      "Training:   0%|                                          | 0/50 [00:00<?, ?it/s]"
     ]
    },
    {
     "name": "stdout",
     "output_type": "stream",
     "text": [
      "120.63333333333334\n"
     ]
    },
    {
     "name": "stderr",
     "output_type": "stream",
     "text": [
      "Training: 100%|█████████████████████████████████| 50/50 [00:08<00:00,  5.66it/s]\n",
      "Evaluating: 100%|███████████████████████████████| 30/30 [00:00<00:00, 43.89it/s]\n",
      "Training:   0%|                                          | 0/50 [00:00<?, ?it/s]"
     ]
    },
    {
     "name": "stdout",
     "output_type": "stream",
     "text": [
      "197.5\n"
     ]
    },
    {
     "name": "stderr",
     "output_type": "stream",
     "text": [
      "Training: 100%|█████████████████████████████████| 50/50 [00:07<00:00,  6.26it/s]\n",
      "Evaluating: 100%|███████████████████████████████| 30/30 [00:00<00:00, 46.13it/s]\n",
      "Training:   0%|                                          | 0/50 [00:00<?, ?it/s]"
     ]
    },
    {
     "name": "stdout",
     "output_type": "stream",
     "text": [
      "195.63333333333333\n"
     ]
    },
    {
     "name": "stderr",
     "output_type": "stream",
     "text": [
      "Training: 100%|█████████████████████████████████| 50/50 [00:08<00:00,  5.71it/s]\n",
      "Evaluating: 100%|███████████████████████████████| 30/30 [00:00<00:00, 45.60it/s]\n",
      "Training:   0%|                                          | 0/50 [00:00<?, ?it/s]"
     ]
    },
    {
     "name": "stdout",
     "output_type": "stream",
     "text": [
      "200.0\n"
     ]
    },
    {
     "name": "stderr",
     "output_type": "stream",
     "text": [
      "Training: 100%|█████████████████████████████████| 50/50 [00:08<00:00,  5.86it/s]\n",
      "Evaluating: 100%|███████████████████████████████| 30/30 [00:00<00:00, 45.51it/s]\n",
      "Training:   0%|                                          | 0/50 [00:00<?, ?it/s]"
     ]
    },
    {
     "name": "stdout",
     "output_type": "stream",
     "text": [
      "200.0\n"
     ]
    },
    {
     "name": "stderr",
     "output_type": "stream",
     "text": [
      "Training: 100%|█████████████████████████████████| 50/50 [00:05<00:00,  9.99it/s]\n",
      "Evaluating: 100%|██████████████████████████████| 30/30 [00:00<00:00, 129.94it/s]\n",
      "Training:   4%|█▎                                | 2/50 [00:00<00:02, 16.11it/s]"
     ]
    },
    {
     "name": "stdout",
     "output_type": "stream",
     "text": [
      "66.8\n"
     ]
    },
    {
     "name": "stderr",
     "output_type": "stream",
     "text": [
      "Training: 100%|█████████████████████████████████| 50/50 [00:02<00:00, 20.20it/s]\n",
      "Evaluating: 100%|██████████████████████████████| 30/30 [00:00<00:00, 244.94it/s]\n",
      "Training:   6%|██                                | 3/50 [00:00<00:01, 24.01it/s]"
     ]
    },
    {
     "name": "stdout",
     "output_type": "stream",
     "text": [
      "34.4\n"
     ]
    },
    {
     "name": "stderr",
     "output_type": "stream",
     "text": [
      "Training: 100%|█████████████████████████████████| 50/50 [00:02<00:00, 21.34it/s]\n",
      "Evaluating: 100%|██████████████████████████████| 30/30 [00:00<00:00, 197.89it/s]\n",
      "Training:   6%|██                                | 3/50 [00:00<00:01, 23.92it/s]"
     ]
    },
    {
     "name": "stdout",
     "output_type": "stream",
     "text": [
      "42.6\n"
     ]
    },
    {
     "name": "stderr",
     "output_type": "stream",
     "text": [
      "Training: 100%|█████████████████████████████████| 50/50 [00:03<00:00, 13.46it/s]\n",
      "Evaluating: 100%|███████████████████████████████| 30/30 [00:00<00:00, 60.64it/s]\n",
      "Training:   6%|██                                | 3/50 [00:00<00:02, 22.80it/s]"
     ]
    },
    {
     "name": "stdout",
     "output_type": "stream",
     "text": [
      "148.06666666666666\n"
     ]
    },
    {
     "name": "stderr",
     "output_type": "stream",
     "text": [
      "Training: 100%|█████████████████████████████████| 50/50 [00:04<00:00, 10.24it/s]\n",
      "Evaluating: 100%|██████████████████████████████| 30/30 [00:00<00:00, 136.54it/s]\n",
      "Training:   2%|▋                                 | 1/50 [00:00<00:06,  7.43it/s]"
     ]
    },
    {
     "name": "stdout",
     "output_type": "stream",
     "text": [
      "63.766666666666666\n"
     ]
    },
    {
     "name": "stderr",
     "output_type": "stream",
     "text": [
      "Training: 100%|█████████████████████████████████| 50/50 [00:07<00:00,  6.89it/s]\n",
      "Evaluating: 100%|███████████████████████████████| 30/30 [00:00<00:00, 79.71it/s]\n",
      "Training:   2%|▋                                 | 1/50 [00:00<00:08,  5.94it/s]"
     ]
    },
    {
     "name": "stdout",
     "output_type": "stream",
     "text": [
      "112.5\n"
     ]
    },
    {
     "name": "stderr",
     "output_type": "stream",
     "text": [
      "Training: 100%|█████████████████████████████████| 50/50 [00:04<00:00, 10.60it/s]\n",
      "Evaluating: 100%|██████████████████████████████| 30/30 [00:00<00:00, 100.42it/s]\n",
      "Training:   4%|█▎                                | 2/50 [00:00<00:02, 19.13it/s]"
     ]
    },
    {
     "name": "stdout",
     "output_type": "stream",
     "text": [
      "88.43333333333334\n"
     ]
    },
    {
     "name": "stderr",
     "output_type": "stream",
     "text": [
      "Training: 100%|█████████████████████████████████| 50/50 [00:02<00:00, 17.42it/s]\n",
      "Evaluating: 100%|██████████████████████████████| 30/30 [00:00<00:00, 233.12it/s]\n",
      "Training:   6%|██                                | 3/50 [00:00<00:02, 18.99it/s]"
     ]
    },
    {
     "name": "stdout",
     "output_type": "stream",
     "text": [
      "35.93333333333333\n"
     ]
    },
    {
     "name": "stderr",
     "output_type": "stream",
     "text": [
      "Training: 100%|█████████████████████████████████| 50/50 [00:02<00:00, 17.18it/s]\n",
      "Evaluating: 100%|██████████████████████████████| 30/30 [00:00<00:00, 294.73it/s]\n",
      "Training:  14%|████▊                             | 7/50 [00:00<00:00, 65.87it/s]"
     ]
    },
    {
     "name": "stdout",
     "output_type": "stream",
     "text": [
      "28.166666666666668\n"
     ]
    },
    {
     "name": "stderr",
     "output_type": "stream",
     "text": [
      "Training: 100%|█████████████████████████████████| 50/50 [00:01<00:00, 35.54it/s]\n",
      "Evaluating: 100%|██████████████████████████████| 30/30 [00:00<00:00, 518.25it/s]\n",
      "Training:  14%|████▊                             | 7/50 [00:00<00:00, 60.71it/s]"
     ]
    },
    {
     "name": "stdout",
     "output_type": "stream",
     "text": [
      "15.833333333333334\n"
     ]
    },
    {
     "name": "stderr",
     "output_type": "stream",
     "text": [
      "Training: 100%|█████████████████████████████████| 50/50 [00:01<00:00, 31.56it/s]\n",
      "Evaluating: 100%|██████████████████████████████| 30/30 [00:00<00:00, 487.38it/s]\n",
      "Training:  14%|████▊                             | 7/50 [00:00<00:00, 66.59it/s]"
     ]
    },
    {
     "name": "stdout",
     "output_type": "stream",
     "text": [
      "16.966666666666665\n"
     ]
    },
    {
     "name": "stderr",
     "output_type": "stream",
     "text": [
      "Training: 100%|█████████████████████████████████| 50/50 [00:01<00:00, 44.08it/s]\n",
      "Evaluating: 100%|██████████████████████████████| 30/30 [00:00<00:00, 705.37it/s]\n",
      "Training:  12%|████                              | 6/50 [00:00<00:01, 37.56it/s]"
     ]
    },
    {
     "name": "stdout",
     "output_type": "stream",
     "text": [
      "11.6\n"
     ]
    },
    {
     "name": "stderr",
     "output_type": "stream",
     "text": [
      "Training: 100%|█████████████████████████████████| 50/50 [00:01<00:00, 43.41it/s]\n",
      "Evaluating: 100%|██████████████████████████████| 30/30 [00:00<00:00, 749.58it/s]\n",
      "Training:  14%|████▊                             | 7/50 [00:00<00:00, 66.56it/s]"
     ]
    },
    {
     "name": "stdout",
     "output_type": "stream",
     "text": [
      "10.8\n"
     ]
    },
    {
     "name": "stderr",
     "output_type": "stream",
     "text": [
      "Training: 100%|█████████████████████████████████| 50/50 [00:01<00:00, 26.96it/s]\n",
      "Evaluating: 100%|██████████████████████████████| 30/30 [00:00<00:00, 724.03it/s]\n",
      "Training:   8%|██▋                               | 4/50 [00:00<00:02, 22.83it/s]"
     ]
    },
    {
     "name": "stdout",
     "output_type": "stream",
     "text": [
      "11.166666666666666\n"
     ]
    },
    {
     "name": "stderr",
     "output_type": "stream",
     "text": [
      "Training: 100%|█████████████████████████████████| 50/50 [00:02<00:00, 20.73it/s]\n",
      "Evaluating: 100%|██████████████████████████████| 30/30 [00:00<00:00, 244.96it/s]\n",
      "Training:   6%|██                                | 3/50 [00:00<00:01, 28.32it/s]"
     ]
    },
    {
     "name": "stdout",
     "output_type": "stream",
     "text": [
      "34.2\n"
     ]
    },
    {
     "name": "stderr",
     "output_type": "stream",
     "text": [
      "Training: 100%|█████████████████████████████████| 50/50 [00:02<00:00, 18.05it/s]\n",
      "Evaluating: 100%|███████████████████████████████| 30/30 [00:00<00:00, 69.42it/s]\n",
      "Training:   2%|▋                                 | 1/50 [00:00<00:08,  6.07it/s]"
     ]
    },
    {
     "name": "stdout",
     "output_type": "stream",
     "text": [
      "129.0\n"
     ]
    },
    {
     "name": "stderr",
     "output_type": "stream",
     "text": [
      "Training: 100%|█████████████████████████████████| 50/50 [00:03<00:00, 12.64it/s]\n",
      "Evaluating: 100%|███████████████████████████████| 30/30 [00:00<00:00, 88.35it/s]\n",
      "Training:   0%|                                          | 0/50 [00:00<?, ?it/s]"
     ]
    },
    {
     "name": "stdout",
     "output_type": "stream",
     "text": [
      "99.56666666666666\n"
     ]
    },
    {
     "name": "stderr",
     "output_type": "stream",
     "text": [
      "Training: 100%|█████████████████████████████████| 50/50 [00:03<00:00, 12.66it/s]\n",
      "Evaluating: 100%|██████████████████████████████| 30/30 [00:00<00:00, 255.85it/s]\n",
      "Training:   6%|██                                | 3/50 [00:00<00:02, 22.54it/s]"
     ]
    },
    {
     "name": "stdout",
     "output_type": "stream",
     "text": [
      "32.6\n"
     ]
    },
    {
     "name": "stderr",
     "output_type": "stream",
     "text": [
      "Training: 100%|█████████████████████████████████| 50/50 [00:04<00:00, 12.27it/s]\n",
      "Evaluating: 100%|██████████████████████████████| 30/30 [00:00<00:00, 126.61it/s]\n",
      "Training:   4%|█▎                                | 2/50 [00:00<00:04, 11.69it/s]"
     ]
    },
    {
     "name": "stdout",
     "output_type": "stream",
     "text": [
      "68.76666666666667\n"
     ]
    },
    {
     "name": "stderr",
     "output_type": "stream",
     "text": [
      "Training: 100%|█████████████████████████████████| 50/50 [00:04<00:00, 11.76it/s]\n",
      "Evaluating: 100%|███████████████████████████████| 30/30 [00:00<00:00, 69.67it/s]\n",
      "Training:   2%|▋                                 | 1/50 [00:00<00:05,  9.74it/s]"
     ]
    },
    {
     "name": "stdout",
     "output_type": "stream",
     "text": [
      "128.9\n"
     ]
    },
    {
     "name": "stderr",
     "output_type": "stream",
     "text": [
      "Training: 100%|█████████████████████████████████| 50/50 [00:02<00:00, 19.38it/s]\n",
      "Evaluating: 100%|███████████████████████████████| 30/30 [00:00<00:00, 76.49it/s]\n",
      "Training:   2%|▋                                 | 1/50 [00:00<00:05,  9.29it/s]"
     ]
    },
    {
     "name": "stdout",
     "output_type": "stream",
     "text": [
      "116.66666666666667\n"
     ]
    },
    {
     "name": "stderr",
     "output_type": "stream",
     "text": [
      "Training: 100%|█████████████████████████████████| 50/50 [00:03<00:00, 15.58it/s]\n",
      "Evaluating: 100%|███████████████████████████████| 30/30 [00:00<00:00, 85.06it/s]\n",
      "Training:   6%|██                                | 3/50 [00:00<00:02, 22.92it/s]"
     ]
    },
    {
     "name": "stdout",
     "output_type": "stream",
     "text": [
      "104.43333333333334\n"
     ]
    },
    {
     "name": "stderr",
     "output_type": "stream",
     "text": [
      "Training: 100%|█████████████████████████████████| 50/50 [00:02<00:00, 17.46it/s]\n",
      "Evaluating: 100%|██████████████████████████████| 30/30 [00:00<00:00, 126.88it/s]\n",
      "Training:   2%|▋                                 | 1/50 [00:00<00:05,  9.52it/s]"
     ]
    },
    {
     "name": "stdout",
     "output_type": "stream",
     "text": [
      "68.36666666666666\n"
     ]
    },
    {
     "name": "stderr",
     "output_type": "stream",
     "text": [
      "Training: 100%|█████████████████████████████████| 50/50 [00:02<00:00, 20.04it/s]\n",
      "Evaluating: 100%|██████████████████████████████| 30/30 [00:00<00:00, 190.32it/s]\n",
      "Training:   8%|██▋                               | 4/50 [00:00<00:01, 25.04it/s]"
     ]
    },
    {
     "name": "stdout",
     "output_type": "stream",
     "text": [
      "44.1\n"
     ]
    },
    {
     "name": "stderr",
     "output_type": "stream",
     "text": [
      "Training: 100%|█████████████████████████████████| 50/50 [00:01<00:00, 42.51it/s]\n",
      "Evaluating: 100%|██████████████████████████████| 30/30 [00:00<00:00, 788.61it/s]\n",
      "Training:  12%|████                              | 6/50 [00:00<00:01, 43.64it/s]"
     ]
    },
    {
     "name": "stdout",
     "output_type": "stream",
     "text": [
      "10.2\n"
     ]
    },
    {
     "name": "stderr",
     "output_type": "stream",
     "text": [
      "Training: 100%|█████████████████████████████████| 50/50 [00:02<00:00, 18.10it/s]\n",
      "Evaluating: 100%|██████████████████████████████| 30/30 [00:00<00:00, 175.56it/s]\n",
      "Training:  12%|████                              | 6/50 [00:00<00:01, 37.48it/s]"
     ]
    },
    {
     "name": "stdout",
     "output_type": "stream",
     "text": [
      "48.03333333333333\n"
     ]
    },
    {
     "name": "stderr",
     "output_type": "stream",
     "text": [
      "Training: 100%|█████████████████████████████████| 50/50 [00:02<00:00, 16.72it/s]\n",
      "Evaluating: 100%|██████████████████████████████| 30/30 [00:00<00:00, 226.84it/s]\n",
      "Training:   0%|                                          | 0/50 [00:00<?, ?it/s]"
     ]
    },
    {
     "name": "stdout",
     "output_type": "stream",
     "text": [
      "36.8\n"
     ]
    },
    {
     "name": "stderr",
     "output_type": "stream",
     "text": [
      "Training: 100%|█████████████████████████████████| 50/50 [00:06<00:00,  8.10it/s]\n",
      "Evaluating: 100%|██████████████████████████████| 30/30 [00:00<00:00, 123.61it/s]\n",
      "Training:   4%|█▎                                | 2/50 [00:00<00:02, 16.15it/s]"
     ]
    },
    {
     "name": "stdout",
     "output_type": "stream",
     "text": [
      "69.93333333333334\n"
     ]
    },
    {
     "name": "stderr",
     "output_type": "stream",
     "text": [
      "Training: 100%|█████████████████████████████████| 50/50 [00:02<00:00, 23.01it/s]\n",
      "Evaluating: 100%|██████████████████████████████| 30/30 [00:00<00:00, 166.95it/s]\n",
      "Training:   6%|██                                | 3/50 [00:00<00:02, 23.47it/s]"
     ]
    },
    {
     "name": "stdout",
     "output_type": "stream",
     "text": [
      "50.8\n"
     ]
    },
    {
     "name": "stderr",
     "output_type": "stream",
     "text": [
      "Training: 100%|█████████████████████████████████| 50/50 [00:02<00:00, 21.94it/s]\n",
      "Evaluating: 100%|██████████████████████████████| 30/30 [00:00<00:00, 159.66it/s]\n",
      "Training:   4%|█▎                                | 2/50 [00:00<00:04, 10.55it/s]"
     ]
    },
    {
     "name": "stdout",
     "output_type": "stream",
     "text": [
      "53.233333333333334\n"
     ]
    },
    {
     "name": "stderr",
     "output_type": "stream",
     "text": [
      "Training: 100%|█████████████████████████████████| 50/50 [00:03<00:00, 16.47it/s]\n",
      "Evaluating: 100%|███████████████████████████████| 30/30 [00:00<00:00, 85.15it/s]\n",
      "Training:   0%|                                          | 0/50 [00:00<?, ?it/s]"
     ]
    },
    {
     "name": "stdout",
     "output_type": "stream",
     "text": [
      "104.06666666666666\n"
     ]
    },
    {
     "name": "stderr",
     "output_type": "stream",
     "text": [
      "Training: 100%|█████████████████████████████████| 50/50 [00:04<00:00, 10.74it/s]\n",
      "Evaluating: 100%|██████████████████████████████| 30/30 [00:00<00:00, 101.49it/s]\n",
      "Training:   4%|█▎                                | 2/50 [00:00<00:04, 11.22it/s]"
     ]
    },
    {
     "name": "stdout",
     "output_type": "stream",
     "text": [
      "86.96666666666667\n"
     ]
    },
    {
     "name": "stderr",
     "output_type": "stream",
     "text": [
      "Training: 100%|█████████████████████████████████| 50/50 [00:07<00:00,  7.07it/s]\n",
      "Evaluating: 100%|███████████████████████████████| 30/30 [00:00<00:00, 45.42it/s]\n",
      "Training:   0%|                                          | 0/50 [00:00<?, ?it/s]"
     ]
    },
    {
     "name": "stdout",
     "output_type": "stream",
     "text": [
      "200.0\n"
     ]
    },
    {
     "name": "stderr",
     "output_type": "stream",
     "text": [
      "Training: 100%|█████████████████████████████████| 50/50 [00:08<00:00,  5.90it/s]\n",
      "Evaluating: 100%|███████████████████████████████| 30/30 [00:00<00:00, 45.38it/s]\n",
      "Training:   0%|                                          | 0/50 [00:00<?, ?it/s]"
     ]
    },
    {
     "name": "stdout",
     "output_type": "stream",
     "text": [
      "200.0\n"
     ]
    },
    {
     "name": "stderr",
     "output_type": "stream",
     "text": [
      "Training: 100%|█████████████████████████████████| 50/50 [00:08<00:00,  5.59it/s]\n",
      "Evaluating: 100%|███████████████████████████████| 30/30 [00:00<00:00, 45.72it/s]\n",
      "Training:   0%|                                          | 0/50 [00:00<?, ?it/s]"
     ]
    },
    {
     "name": "stdout",
     "output_type": "stream",
     "text": [
      "200.0\n"
     ]
    },
    {
     "name": "stderr",
     "output_type": "stream",
     "text": [
      "Training: 100%|█████████████████████████████████| 50/50 [00:06<00:00,  8.06it/s]\n",
      "Evaluating: 100%|██████████████████████████████| 30/30 [00:00<00:00, 179.36it/s]"
     ]
    },
    {
     "name": "stdout",
     "output_type": "stream",
     "text": [
      "47.43333333333333\n",
      "\n",
      "Learning Performance:\n",
      "\n"
     ]
    },
    {
     "name": "stderr",
     "output_type": "stream",
     "text": [
      "\n"
     ]
    },
    {
     "data": {
      "text/plain": [
       "<Figure size 432x288 with 0 Axes>"
      ]
     },
     "metadata": {},
     "output_type": "display_data"
    },
    {
     "data": {
      "image/png": "[encoded data removed]",
      "text/plain": [
       "<Figure size 432x288 with 1 Axes>"
      ]
     },
     "metadata": {
      "needs_background": "light"
     },
     "output_type": "display_data"
    }
   ],
   "source": [
    "training_episodes, test_interval = 10000, 50\n",
    "agent = DQN_agent(env_CartPole, hyperparams_CartPole)\n",
    "result = agent.learn_and_evaluate(training_episodes, test_interval)\n",
    "plot_result(result, test_interval, [\"batch_update with target_model\"])"
   ]
  },
  {
   "cell_type": "markdown",
   "metadata": {},
   "source": [
    "***\n",
    "# Part 2: Distributed DQN\n",
    "***\n",
    "\n",
    "Here you will implement a distributed version of the above DQN approach. The distribution approach can be the same as that used for the table-based distribution Q-learning algorithm from homework 3."
   ]
  },
  {
   "cell_type": "markdown",
   "metadata": {},
   "source": [
    "## init Ray"
   ]
  },
  {
   "cell_type": "code",
   "execution_count": null,
   "metadata": {},
   "outputs": [],
   "source": [
    "ray.shutdown()\n",
    "ray.init(include_webui=False, ignore_reinit_error=True, redis_max_memory=500000000, object_store_memory=5000000000)"
   ]
  },
  {
   "cell_type": "markdown",
   "metadata": {},
   "source": [
    "## Distributed DQN agent\n",
    "The idea is to speedup learning by creating actors to collect data and a model_server to update the neural network model.\n",
    "- Collector: There is a simulator inside each collector. Their job is to collect exprience from the simulator, and send them to the memory server. They follow the explore_or_exploit policy, getting greedy action from model server. Also, call update function of model server to update the model.  \n",
    "- Evaluator: There is a simulator inside the evaluator. It is called by the the Model Server, taking eval_model from it, and test its performance.\n",
    "- Model Server: Stores the evalation and target networks. It Takes experiences from Memory Server and updates the Q-network, also replacing target Q-network periodically. It also interfaces to the evaluator periodically. \n",
    "- Memory Server: It is used to store/sample experience relays.\n",
    "\n",
    "An image of this architecture is below. \n",
    "\n",
    "For this part, you should use our custom_cartpole as your enviroment. This version of cartpole is slower, which allows for the benefits of distributed experience collection to be observed. In particular, the time to generate an experience tuple needs to be non-trivial compared to the time needed to do a neural network model update. \n",
    "\n",
    "<span style=\"color:green\">It is better to run the distributed DQN agent in exclusive node, not in Jupyter notebook</span>\n",
    "```\n",
    "Store all of your distrited DQN code into a python file.\n",
    "ssh colfax (get access to the Devcloud on terminal)\n",
    "qsub -I -lselect=1\n",
    "python3 distributed_dqn.py\n",
    "```\n",
    "\n",
    "<img src=\"distributed DQN.png\">\n",
    "\n",
    "For this part of the homework you need to submit your code for distributed DQN and run experiments that vary the number of workers involved. Produce some learning curves and timing results and discuss your observations. "
   ]
  },
  {
   "cell_type": "code",
   "execution_count": null,
   "metadata": {},
   "outputs": [],
   "source": [
    "from memory_remote import ReplayBuffer_remote\n",
    "from dqn_model import _DQNModel\n",
    "import torch\n",
    "from custom_cartpole import CartPoleEnv"
   ]
  },
  {
   "cell_type": "code",
   "execution_count": null,
   "metadata": {},
   "outputs": [],
   "source": [
    "# Set the Env name and action space for CartPole\n",
    "ENV_NAME = 'CartPole_distributed'\n",
    "\n",
    "# Set result saveing floder\n",
    "result_floder = ENV_NAME + \"_distributed\"\n",
    "result_file = ENV_NAME + \"/results.txt\"\n",
    "if not os.path.isdir(result_floder):\n",
    "    os.mkdir(result_floder)\n",
    "torch.set_num_threads(12)"
   ]
  }
 ],
 "metadata": {
  "kernelspec": {
   "display_name": "Python 3 (ipykernel)",
   "language": "python",
   "name": "python3"
  },
  "language_info": {
   "codemirror_mode": {
    "name": "ipython",
    "version": 3
   },
   "file_extension": ".py",
   "mimetype": "text/x-python",
   "name": "python",
   "nbconvert_exporter": "python",
   "pygments_lexer": "ipython3",
   "version": "3.7.11"
  }
 },
 "nbformat": 4,
 "nbformat_minor": 4
}
